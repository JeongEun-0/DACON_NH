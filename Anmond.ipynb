{
 "cells": [
  {
   "cell_type": "markdown",
   "metadata": {},
   "source": [
    "# \"2021(제2회) NH투자증권 빅데이터 경진대회\"\n",
    "\n",
    "안녕하세요! 앙몬드 팀입니다. 주식 보유기간 예측이라는  주제가 흥미로워 더욱 즐겁게 분석에 참여할 수 있었습니다. \n",
    "\n",
    "저희는 1) 과거 이력 칼럼에서 보유일자 찾기 2) 후처리로 예측값의 상한선과 하한성 정하기 를 통해 주로 점수를 올릴 수 있었습니다.\n",
    "\n",
    "부족한 실력으로 코드를 작성하였습니다. 너그럽게 봐주시면 감사하겠습니다."
   ]
  },
  {
   "cell_type": "markdown",
   "metadata": {},
   "source": [
    "### 패키지 설치 및 데이터 로드"
   ]
  },
  {
   "cell_type": "code",
   "execution_count": 1,
   "metadata": {},
   "outputs": [],
   "source": [
    "import pandas as pd\n",
    "import numpy as np\n",
    "import matplotlib.pyplot as plt\n",
    "import seaborn as sns\n",
    "import warnings\n",
    "from numpy import int64\n",
    "from datetime import datetime\n",
    "from sklearn.preprocessing import LabelEncoder\n",
    "from sklearn.metrics import mean_squared_error as mse\n",
    "from sklearn.model_selection import train_test_split, StratifiedKFold, KFold\n",
    "from sklearn.ensemble import RandomForestClassifier\n",
    "from lightgbm import LGBMRegressor\n",
    "import lightgbm as lgb\n",
    "from sklearn.model_selection import GridSearchCV\n",
    "from sklearn.pipeline import make_pipeline\n",
    "from sklearn.preprocessing import StandardScaler\n",
    "import FinanceDataReader as fdr"
   ]
  },
  {
   "cell_type": "code",
   "execution_count": 2,
   "metadata": {},
   "outputs": [],
   "source": [
    "cus=pd.read_csv('./cus_info.csv')  ## 고객, 주거래계좌 정보\n",
    "iem=pd.read_csv('./iem_info_20210902.csv')  ## 종목 정보\n",
    "sample=pd.read_csv('./sample_submission.csv')\n",
    "hist=pd.read_csv('./stk_bnc_hist.csv') ## 잔고 정보\n",
    "test=pd.read_csv('./stk_hld_test.csv') ## 20년 이전~21년 \n",
    "train=pd.read_csv('./stk_hld_train.csv') ## 16년~20년"
   ]
  },
  {
   "cell_type": "markdown",
   "metadata": {},
   "source": [
    "### 고객 데이터 분석"
   ]
  },
  {
   "cell_type": "markdown",
   "metadata": {},
   "source": [
    "#### 고객 데이터의 분포 확인 "
   ]
  },
  {
   "cell_type": "code",
   "execution_count": 3,
   "metadata": {},
   "outputs": [
    {
     "name": "stdout",
     "output_type": "stream",
     "text": [
      "4    1567\n",
      "3    1524\n",
      "6    1415\n",
      "2    1378\n",
      "5    1369\n",
      "7    1098\n",
      "8     787\n",
      "1     481\n",
      "9     381\n",
      "Name: cus_age_stn_cd, dtype: int64\n"
     ]
    },
    {
     "data": {
      "text/plain": [
       "<matplotlib.axes._subplots.AxesSubplot at 0x15355c4b2b0>"
      ]
     },
     "execution_count": 3,
     "metadata": {},
     "output_type": "execute_result"
    },
    {
     "data": {
      "image/png": "[encoded data removed]",
      "text/plain": [
       "<Figure size 432x288 with 1 Axes>"
      ]
     },
     "metadata": {
      "needs_background": "light"
     },
     "output_type": "display_data"
    }
   ],
   "source": [
    "#연령구간의 분포 확인\n",
    "print(cus['cus_age_stn_cd'].value_counts())\n",
    "cus['cus_age_stn_cd'].value_counts().plot.bar()"
   ]
  },
  {
   "cell_type": "markdown",
   "metadata": {},
   "source": [
    "- 01: 20세~25세미만\n",
    "- 02: 25세~30세미만\n",
    "- `03: 30세~35세미만` 2등\n",
    "- `04: 35세~40세미만` 1등\n",
    "- 05: 40세~45세미만\n",
    "- `06: 45세~50세미만` 3등\n",
    "- 07: 50세~55세미만\n",
    "- 08: 55세~60세미만\n",
    "- 09: 60세~65세미만"
   ]
  },
  {
   "cell_type": "code",
   "execution_count": 4,
   "metadata": {},
   "outputs": [
    {
     "name": "stdout",
     "output_type": "stream",
     "text": [
      "99    3687\n",
      "4     1858\n",
      "3     1669\n",
      "2     1467\n",
      "5      935\n",
      "1      210\n",
      "0      171\n",
      "9        3\n",
      "Name: ivs_icn_cd, dtype: int64\n"
     ]
    },
    {
     "data": {
      "text/plain": [
       "<matplotlib.axes._subplots.AxesSubplot at 0x15355f48df0>"
      ]
     },
     "execution_count": 4,
     "metadata": {},
     "output_type": "execute_result"
    },
    {
     "data": {
      "image/png": "[encoded data removed]",
      "text/plain": [
       "<Figure size 432x288 with 1 Axes>"
      ]
     },
     "metadata": {
      "needs_background": "light"
     },
     "output_type": "display_data"
    }
   ],
   "source": [
    "#투자성향 필드 값의 분포 확인\n",
    "print(cus['ivs_icn_cd'].value_counts())\n",
    "cus['ivs_icn_cd'].value_counts().plot.bar()"
   ]
  },
  {
   "cell_type": "markdown",
   "metadata": {},
   "source": [
    "- 01: 안정형\n",
    "- 02: 안정추구형\n",
    "- `03: 위험중립형` 3등\n",
    "- `04: 적극투자형` 2등\n",
    "- 05: 공격투자형\n",
    "- 09: 전문투자가형\n",
    "- 00: 정보제공미동의\n",
    "- `99: 미정의` 1등\n",
    "\n",
    "`투자 성향이 주식 보유 기간과 연관되어 있을 것으로 예상하여 '미정의'를 가공하는 것이 중요하다고 생각하였습니다.`"
   ]
  },
  {
   "cell_type": "code",
   "execution_count": 5,
   "metadata": {},
   "outputs": [
    {
     "name": "stdout",
     "output_type": "stream",
     "text": [
      "1    3572\n",
      "2    2740\n",
      "4    1222\n",
      "3    1147\n",
      "5     984\n",
      "6     335\n",
      "Name: cus_aet_stn_cd, dtype: int64\n"
     ]
    },
    {
     "data": {
      "text/plain": [
       "<matplotlib.axes._subplots.AxesSubplot at 0x15355fc9100>"
      ]
     },
     "execution_count": 5,
     "metadata": {},
     "output_type": "execute_result"
    },
    {
     "data": {
      "image/png": "[encoded data removed]",
      "text/plain": [
       "<Figure size 432x288 with 1 Axes>"
      ]
     },
     "metadata": {
      "needs_background": "light"
     },
     "output_type": "display_data"
    }
   ],
   "source": [
    "#고객자산구간 필드 값의 분포 확인\n",
    "print(cus['cus_aet_stn_cd'].value_counts())\n",
    "cus['cus_aet_stn_cd'].value_counts().plot.bar()"
   ]
  },
  {
   "cell_type": "markdown",
   "metadata": {},
   "source": [
    "- `01: 0원이상-1천만원미만` 1등\n",
    "- `02: 1천만원이상-3천만원미만` 2등\n",
    "- 03: 3천만원이상-5천만원미만\n",
    "- `04: 5천만원이상-1억원미만` 3등\n",
    "- 05: 1억원이상-3억원미만\n",
    "- 06: 3억원이상"
   ]
  },
  {
   "cell_type": "code",
   "execution_count": 6,
   "metadata": {},
   "outputs": [
    {
     "name": "stdout",
     "output_type": "stream",
     "text": [
      "2     9659\n",
      "3      261\n",
      "1       34\n",
      "15      10\n",
      "10       9\n",
      "8        8\n",
      "5        7\n",
      "9        5\n",
      "6        3\n",
      "11       3\n",
      "12       1\n",
      "Name: mrz_pdt_tp_sgm_cd, dtype: int64\n"
     ]
    }
   ],
   "source": [
    "#주거래상품군 필드 값의 분포 확인\n",
    "print(cus['mrz_pdt_tp_sgm_cd'].value_counts())"
   ]
  },
  {
   "cell_type": "markdown",
   "metadata": {},
   "source": [
    "- 01: Only CMA\n",
    "- `02: 국내주식` 압도적인 1위\n",
    "- `03: 해외주식` \n",
    "- 04: 선물옵션\n",
    "- 05: 금속\n",
    "- 06: 국내채권\n",
    "- 07: 해외채권\n",
    "- 08: 펀드\n",
    "- 09: ELS/DLS\n",
    "- 10: 신탁_퇴직연금\n",
    "- 11: RP\n",
    "- 12: 발행어음\n",
    "- 14: WRAP\n",
    "- 15: 신용대출\n",
    "- 99: 미정의\n",
    "    \n",
    "대체로 국내주식에 몰려 있어 크게 의미가 없는 것으로 판단하였고, 분석 과정에서 제거하였습니다."
   ]
  },
  {
   "cell_type": "code",
   "execution_count": 7,
   "metadata": {},
   "outputs": [
    {
     "name": "stdout",
     "output_type": "stream",
     "text": [
      "3    4271\n",
      "2    3315\n",
      "4     992\n",
      "1     962\n",
      "5     312\n",
      "6     148\n",
      "Name: tot_ivs_te_sgm_cd, dtype: int64\n"
     ]
    },
    {
     "data": {
      "text/plain": [
       "<matplotlib.axes._subplots.AxesSubplot at 0x15356003640>"
      ]
     },
     "execution_count": 7,
     "metadata": {},
     "output_type": "execute_result"
    },
    {
     "data": {
      "image/png": "[encoded data removed]",
      "text/plain": [
       "<Figure size 432x288 with 1 Axes>"
      ]
     },
     "metadata": {
      "needs_background": "light"
     },
     "output_type": "display_data"
    }
   ],
   "source": [
    "#총투자기간 필드 값의 분포 확인\n",
    "print(cus['tot_ivs_te_sgm_cd'].value_counts())\n",
    "cus['tot_ivs_te_sgm_cd'].value_counts().plot.bar()"
   ]
  },
  {
   "cell_type": "markdown",
   "metadata": {},
   "source": [
    "- 01: 6개월 미만\n",
    "-`  02: 6개월-1년 미만` 2등\n",
    "- ` 03: 1년-3년 미만`  1등\n",
    "- ` 04: 3년-5년 미만`  3등\n",
    "- 05: 5년-10년 미만\n",
    "- 06: 10년 이상"
   ]
  },
  {
   "cell_type": "code",
   "execution_count": 8,
   "metadata": {},
   "outputs": [
    {
     "name": "stdout",
     "output_type": "stream",
     "text": [
      "10    2107\n",
      "16    2024\n",
      "9     1320\n",
      "13     867\n",
      "5      831\n",
      "8      550\n",
      "14     496\n",
      "6      488\n",
      "12     325\n",
      "7      324\n",
      "2      322\n",
      "11      83\n",
      "3       79\n",
      "1       75\n",
      "15      63\n",
      "4       46\n",
      "Name: mrz_btp_dit_cd, dtype: int64\n"
     ]
    },
    {
     "data": {
      "text/plain": [
       "<matplotlib.axes._subplots.AxesSubplot at 0x15356076880>"
      ]
     },
     "execution_count": 8,
     "metadata": {},
     "output_type": "execute_result"
    },
    {
     "data": {
      "image/png": "[encoded data removed]",
      "text/plain": [
       "<Figure size 432x288 with 1 Axes>"
      ]
     },
     "metadata": {
      "needs_background": "light"
     },
     "output_type": "display_data"
    }
   ],
   "source": [
    "#주거래업종구분 필드 값의 분포 확인\n",
    "print(cus['mrz_btp_dit_cd'].value_counts())\n",
    "cus['mrz_btp_dit_cd'].value_counts().plot.bar()"
   ]
  },
  {
   "cell_type": "markdown",
   "metadata": {},
   "source": [
    "- 01: 건설업\n",
    "- 02: 금융업\n",
    "- 03: 기계\n",
    "- 04: 방송/통신\n",
    "- 05: 서비스/오락/문화\n",
    "- 06: 운송/운수\n",
    "- 07: 유통\n",
    "- 08: 의료/의약\n",
    "- ` 09: 전기/전자`  3등\n",
    "- ` 10: 제조` 1등\n",
    "- 11: 철강\n",
    "- 12: 화학\n",
    "- ` 13: IT` 4등\n",
    "- 14: 기타\n",
    "- 15: 혼합\n",
    "- ` 16: 비매매\"` 2등\n",
    "    \n",
    "비매매의 비율이 높아, 데이터 분석 시 유의할 점으로 생각하였습니다."
   ]
  },
  {
   "cell_type": "code",
   "execution_count": 9,
   "metadata": {},
   "outputs": [
    {
     "data": {
      "text/html": [
       "<div>\n",
       "<style scoped>\n",
       "    .dataframe tbody tr th:only-of-type {\n",
       "        vertical-align: middle;\n",
       "    }\n",
       "\n",
       "    .dataframe tbody tr th {\n",
       "        vertical-align: top;\n",
       "    }\n",
       "\n",
       "    .dataframe thead th {\n",
       "        text-align: right;\n",
       "    }\n",
       "</style>\n",
       "<table border=\"1\" class=\"dataframe\">\n",
       "  <thead>\n",
       "    <tr style=\"text-align: right;\">\n",
       "      <th></th>\n",
       "      <th>sex_dit_cd</th>\n",
       "      <th>cus_age_stn_cd</th>\n",
       "      <th>ivs_icn_cd</th>\n",
       "      <th>cus_aet_stn_cd</th>\n",
       "      <th>mrz_pdt_tp_sgm_cd</th>\n",
       "      <th>lsg_sgm_cd</th>\n",
       "      <th>tco_cus_grd_cd</th>\n",
       "      <th>tot_ivs_te_sgm_cd</th>\n",
       "      <th>mrz_btp_dit_cd</th>\n",
       "    </tr>\n",
       "  </thead>\n",
       "  <tbody>\n",
       "    <tr>\n",
       "      <th>sex_dit_cd</th>\n",
       "      <td>1.00</td>\n",
       "      <td>0.03</td>\n",
       "      <td>0.12</td>\n",
       "      <td>-0.09</td>\n",
       "      <td>-0.01</td>\n",
       "      <td>0.15</td>\n",
       "      <td>0.06</td>\n",
       "      <td>-0.07</td>\n",
       "      <td>0.01</td>\n",
       "    </tr>\n",
       "    <tr>\n",
       "      <th>cus_age_stn_cd</th>\n",
       "      <td>0.03</td>\n",
       "      <td>1.00</td>\n",
       "      <td>0.13</td>\n",
       "      <td>0.30</td>\n",
       "      <td>-0.01</td>\n",
       "      <td>0.87</td>\n",
       "      <td>-0.14</td>\n",
       "      <td>0.24</td>\n",
       "      <td>0.00</td>\n",
       "    </tr>\n",
       "    <tr>\n",
       "      <th>ivs_icn_cd</th>\n",
       "      <td>0.12</td>\n",
       "      <td>0.13</td>\n",
       "      <td>1.00</td>\n",
       "      <td>-0.13</td>\n",
       "      <td>-0.07</td>\n",
       "      <td>0.13</td>\n",
       "      <td>0.09</td>\n",
       "      <td>-0.10</td>\n",
       "      <td>0.06</td>\n",
       "    </tr>\n",
       "    <tr>\n",
       "      <th>cus_aet_stn_cd</th>\n",
       "      <td>-0.09</td>\n",
       "      <td>0.30</td>\n",
       "      <td>-0.13</td>\n",
       "      <td>1.00</td>\n",
       "      <td>0.04</td>\n",
       "      <td>0.26</td>\n",
       "      <td>-0.36</td>\n",
       "      <td>0.31</td>\n",
       "      <td>-0.10</td>\n",
       "    </tr>\n",
       "    <tr>\n",
       "      <th>mrz_pdt_tp_sgm_cd</th>\n",
       "      <td>-0.01</td>\n",
       "      <td>-0.01</td>\n",
       "      <td>-0.07</td>\n",
       "      <td>0.04</td>\n",
       "      <td>1.00</td>\n",
       "      <td>-0.01</td>\n",
       "      <td>-0.02</td>\n",
       "      <td>0.05</td>\n",
       "      <td>0.00</td>\n",
       "    </tr>\n",
       "    <tr>\n",
       "      <th>lsg_sgm_cd</th>\n",
       "      <td>0.15</td>\n",
       "      <td>0.87</td>\n",
       "      <td>0.13</td>\n",
       "      <td>0.26</td>\n",
       "      <td>-0.01</td>\n",
       "      <td>1.00</td>\n",
       "      <td>-0.12</td>\n",
       "      <td>0.19</td>\n",
       "      <td>0.01</td>\n",
       "    </tr>\n",
       "    <tr>\n",
       "      <th>tco_cus_grd_cd</th>\n",
       "      <td>0.06</td>\n",
       "      <td>-0.14</td>\n",
       "      <td>0.09</td>\n",
       "      <td>-0.36</td>\n",
       "      <td>-0.02</td>\n",
       "      <td>-0.12</td>\n",
       "      <td>1.00</td>\n",
       "      <td>-0.23</td>\n",
       "      <td>0.02</td>\n",
       "    </tr>\n",
       "    <tr>\n",
       "      <th>tot_ivs_te_sgm_cd</th>\n",
       "      <td>-0.07</td>\n",
       "      <td>0.24</td>\n",
       "      <td>-0.10</td>\n",
       "      <td>0.31</td>\n",
       "      <td>0.05</td>\n",
       "      <td>0.19</td>\n",
       "      <td>-0.23</td>\n",
       "      <td>1.00</td>\n",
       "      <td>0.06</td>\n",
       "    </tr>\n",
       "    <tr>\n",
       "      <th>mrz_btp_dit_cd</th>\n",
       "      <td>0.01</td>\n",
       "      <td>0.00</td>\n",
       "      <td>0.06</td>\n",
       "      <td>-0.10</td>\n",
       "      <td>0.00</td>\n",
       "      <td>0.01</td>\n",
       "      <td>0.02</td>\n",
       "      <td>0.06</td>\n",
       "      <td>1.00</td>\n",
       "    </tr>\n",
       "  </tbody>\n",
       "</table>\n",
       "</div>"
      ],
      "text/plain": [
       "                   sex_dit_cd  cus_age_stn_cd  ivs_icn_cd  cus_aet_stn_cd  \\\n",
       "sex_dit_cd               1.00            0.03        0.12           -0.09   \n",
       "cus_age_stn_cd           0.03            1.00        0.13            0.30   \n",
       "ivs_icn_cd               0.12            0.13        1.00           -0.13   \n",
       "cus_aet_stn_cd          -0.09            0.30       -0.13            1.00   \n",
       "mrz_pdt_tp_sgm_cd       -0.01           -0.01       -0.07            0.04   \n",
       "lsg_sgm_cd               0.15            0.87        0.13            0.26   \n",
       "tco_cus_grd_cd           0.06           -0.14        0.09           -0.36   \n",
       "tot_ivs_te_sgm_cd       -0.07            0.24       -0.10            0.31   \n",
       "mrz_btp_dit_cd           0.01            0.00        0.06           -0.10   \n",
       "\n",
       "                   mrz_pdt_tp_sgm_cd  lsg_sgm_cd  tco_cus_grd_cd  \\\n",
       "sex_dit_cd                     -0.01        0.15            0.06   \n",
       "cus_age_stn_cd                 -0.01        0.87           -0.14   \n",
       "ivs_icn_cd                     -0.07        0.13            0.09   \n",
       "cus_aet_stn_cd                  0.04        0.26           -0.36   \n",
       "mrz_pdt_tp_sgm_cd               1.00       -0.01           -0.02   \n",
       "lsg_sgm_cd                     -0.01        1.00           -0.12   \n",
       "tco_cus_grd_cd                 -0.02       -0.12            1.00   \n",
       "tot_ivs_te_sgm_cd               0.05        0.19           -0.23   \n",
       "mrz_btp_dit_cd                  0.00        0.01            0.02   \n",
       "\n",
       "                   tot_ivs_te_sgm_cd  mrz_btp_dit_cd  \n",
       "sex_dit_cd                     -0.07            0.01  \n",
       "cus_age_stn_cd                  0.24            0.00  \n",
       "ivs_icn_cd                     -0.10            0.06  \n",
       "cus_aet_stn_cd                  0.31           -0.10  \n",
       "mrz_pdt_tp_sgm_cd               0.05            0.00  \n",
       "lsg_sgm_cd                      0.19            0.01  \n",
       "tco_cus_grd_cd                 -0.23            0.02  \n",
       "tot_ivs_te_sgm_cd               1.00            0.06  \n",
       "mrz_btp_dit_cd                  0.06            1.00  "
      ]
     },
     "execution_count": 9,
     "metadata": {},
     "output_type": "execute_result"
    }
   ],
   "source": [
    "cus.corr().round(2) "
   ]
  },
  {
   "cell_type": "markdown",
   "metadata": {},
   "source": [
    "(life stage,나이) (서비스등급,자산구간) (총투자기간, 자산구간) 만 0.3 이상의 상관관계를 가지고 있는 것으로 나왔습니다."
   ]
  },
  {
   "cell_type": "markdown",
   "metadata": {},
   "source": [
    " "
   ]
  },
  {
   "cell_type": "markdown",
   "metadata": {},
   "source": [
    "  "
   ]
  },
  {
   "cell_type": "markdown",
   "metadata": {},
   "source": [
    "  "
   ]
  },
  {
   "cell_type": "markdown",
   "metadata": {},
   "source": [
    "  "
   ]
  },
  {
   "cell_type": "markdown",
   "metadata": {},
   "source": [
    "  "
   ]
  },
  {
   "cell_type": "markdown",
   "metadata": {},
   "source": [
    "## 주식 데이터 분석 및 전처리"
   ]
  },
  {
   "cell_type": "code",
   "execution_count": 3,
   "metadata": {},
   "outputs": [
    {
     "name": "stdout",
     "output_type": "stream",
     "text": [
      "<class 'pandas.core.frame.DataFrame'>\n",
      "RangeIndex: 3079 entries, 0 to 3078\n",
      "Data columns (total 5 columns):\n",
      " #   Column                Non-Null Count  Dtype \n",
      "---  ------                --------------  ----- \n",
      " 0   iem_cd                3079 non-null   object\n",
      " 1   iem_krl_nm            3079 non-null   object\n",
      " 2   btp_cfc_cd            3079 non-null   int64 \n",
      " 3   mkt_pr_tal_scl_tp_cd  3079 non-null   int64 \n",
      " 4   stk_dit_cd            3079 non-null   int64 \n",
      "dtypes: int64(3), object(2)\n",
      "memory usage: 120.4+ KB\n"
     ]
    }
   ],
   "source": [
    "iem.info()"
   ]
  },
  {
   "cell_type": "markdown",
   "metadata": {},
   "source": [
    "iem_krl_nm은 주식 명으로 주식 코드(iem_cd)와 같은 정보이므로 제거하였습니다."
   ]
  },
  {
   "cell_type": "code",
   "execution_count": 10,
   "metadata": {},
   "outputs": [
    {
     "name": "stdout",
     "output_type": "stream",
     "text": [
      "14    835\n",
      "10    666\n",
      "13    455\n",
      "2     211\n",
      "5     203\n",
      "7     150\n",
      "12    121\n",
      "6      95\n",
      "9      82\n",
      "11     78\n",
      "1      61\n",
      "8      57\n",
      "3      43\n",
      "4      22\n",
      "Name: btp_cfc_cd, dtype: int64\n"
     ]
    },
    {
     "data": {
      "text/plain": [
       "<matplotlib.axes._subplots.AxesSubplot at 0x153562797f0>"
      ]
     },
     "execution_count": 10,
     "metadata": {},
     "output_type": "execute_result"
    },
    {
     "data": {
      "image/png": "[encoded data removed]",
      "text/plain": [
       "<Figure size 432x288 with 1 Axes>"
      ]
     },
     "metadata": {
      "needs_background": "light"
     },
     "output_type": "display_data"
    }
   ],
   "source": [
    "#종목 업종 필드 값의 분포 확인\n",
    "print(iem['btp_cfc_cd'].value_counts())\n",
    "iem['btp_cfc_cd'].value_counts().plot.bar()"
   ]
  },
  {
   "cell_type": "markdown",
   "metadata": {},
   "source": [
    "- 01: 건설업\n",
    "- 02: 금융업\n",
    "- 03: 기계\n",
    "- 04: 방송/통신\n",
    "- 05: 서비스/오락/문화\n",
    "- 06: 운송/운수\n",
    "- 07: 유통\n",
    "- 08: 의료/의약\n",
    "- 09: 전기/전자  \n",
    "- 10: 제조\n",
    "- 11: 철강\n",
    "- 12: 화학\n",
    "- 13: IT\n",
    "- 14: 기타\n",
    "    \n",
    "고객 데이터의 주거래 업종 칼럼과 비슷한 내용입니다."
   ]
  },
  {
   "cell_type": "code",
   "execution_count": 11,
   "metadata": {},
   "outputs": [
    {
     "name": "stdout",
     "output_type": "stream",
     "text": [
      "3     1577\n",
      "99     789\n",
      "2      512\n",
      "1      201\n",
      "Name: mkt_pr_tal_scl_tp_cd, dtype: int64\n"
     ]
    },
    {
     "data": {
      "text/plain": [
       "<matplotlib.axes._subplots.AxesSubplot at 0x153562f1d90>"
      ]
     },
     "execution_count": 11,
     "metadata": {},
     "output_type": "execute_result"
    },
    {
     "data": {
      "image/png": "[encoded data removed]",
      "text/plain": [
       "<Figure size 432x288 with 1 Axes>"
      ]
     },
     "metadata": {
      "needs_background": "light"
     },
     "output_type": "display_data"
    }
   ],
   "source": [
    "# 시가 총액 규모 필드 값의 분포 확인\n",
    "print(iem['mkt_pr_tal_scl_tp_cd'].value_counts())\n",
    "iem['mkt_pr_tal_scl_tp_cd'].value_counts().plot.bar()"
   ]
  },
  {
   "cell_type": "markdown",
   "metadata": {},
   "source": [
    "- 01: 대형주\n",
    "- 02: 중형주\n",
    "- 03: 소형주\n",
    "- 04: 기타"
   ]
  },
  {
   "cell_type": "markdown",
   "metadata": {},
   "source": [
    "시장 구분을 위해 기존의 칼럼이 아닌 finance data reader의 주식 리스트를 이용하여 시장 구분을 하겠습니다. "
   ]
  },
  {
   "cell_type": "code",
   "execution_count": 12,
   "metadata": {},
   "outputs": [],
   "source": [
    "# 주식 리스트 데이터 셋을 만들겠습니다.\n",
    "df_krx=fdr.StockListing('KRX')\n",
    "df_kosdaq=fdr.StockListing('KOSDAQ')\n",
    "df_kospi=fdr.StockListing('KOSPI')\n",
    "df_konex=fdr.StockListing('KONEX')\n",
    "result=pd.concat([df_krx,df_kosdaq,df_kospi,df_konex],ignore_index=True)\n",
    "result=result.drop_duplicates(['Symbol'],keep='first')\n",
    "df_stock=result[['Symbol','Market']]"
   ]
  },
  {
   "cell_type": "code",
   "execution_count": 13,
   "metadata": {},
   "outputs": [],
   "source": [
    "## 주식 코드가 일치하도록 숫자만 가져오겠습니다.\n",
    "iem['iem_cd']=iem['iem_cd'].str.slice(start=1, stop=7)  \n",
    "iem = pd.merge(iem, df_stock, how = \"left\",left_on='iem_cd',right_on='Symbol')"
   ]
  },
  {
   "cell_type": "code",
   "execution_count": 14,
   "metadata": {},
   "outputs": [
    {
     "data": {
      "text/html": [
       "<div>\n",
       "<style scoped>\n",
       "    .dataframe tbody tr th:only-of-type {\n",
       "        vertical-align: middle;\n",
       "    }\n",
       "\n",
       "    .dataframe tbody tr th {\n",
       "        vertical-align: top;\n",
       "    }\n",
       "\n",
       "    .dataframe thead th {\n",
       "        text-align: right;\n",
       "    }\n",
       "</style>\n",
       "<table border=\"1\" class=\"dataframe\">\n",
       "  <thead>\n",
       "    <tr style=\"text-align: right;\">\n",
       "      <th>stk_dit_cd</th>\n",
       "      <th>1</th>\n",
       "      <th>2</th>\n",
       "      <th>99</th>\n",
       "    </tr>\n",
       "    <tr>\n",
       "      <th>Market</th>\n",
       "      <th></th>\n",
       "      <th></th>\n",
       "      <th></th>\n",
       "    </tr>\n",
       "  </thead>\n",
       "  <tbody>\n",
       "    <tr>\n",
       "      <th>KOSDAQ</th>\n",
       "      <td>0</td>\n",
       "      <td>150</td>\n",
       "      <td>1322</td>\n",
       "    </tr>\n",
       "    <tr>\n",
       "      <th>KOSPI</th>\n",
       "      <td>200</td>\n",
       "      <td>0</td>\n",
       "      <td>1075</td>\n",
       "    </tr>\n",
       "  </tbody>\n",
       "</table>\n",
       "</div>"
      ],
      "text/plain": [
       "stk_dit_cd   1    2     99\n",
       "Market                    \n",
       "KOSDAQ        0  150  1322\n",
       "KOSPI       200    0  1075"
      ]
     },
     "execution_count": 14,
     "metadata": {},
     "output_type": "execute_result"
    }
   ],
   "source": [
    "pd.crosstab(iem.Market, iem.stk_dit_cd)  ## 기존 시장 구분 칼럼(stk_dit_cd)의 기타 항목을 잘 대체하였습니다."
   ]
  },
  {
   "cell_type": "code",
   "execution_count": 15,
   "metadata": {},
   "outputs": [],
   "source": [
    "iem.loc[iem['Market']=='KOSDAQ', 'Market'] = 1   ## 코스닥에 더 가중치를 두겠습니다.\n",
    "iem.loc[iem['Market']=='KOSPI', 'Market'] = 0\n",
    "iem=iem.fillna(0)"
   ]
  },
  {
   "cell_type": "code",
   "execution_count": 16,
   "metadata": {},
   "outputs": [],
   "source": [
    "iem=iem[['iem_cd','btp_cfc_cd','mkt_pr_tal_scl_tp_cd','Market']]"
   ]
  },
  {
   "cell_type": "markdown",
   "metadata": {},
   "source": [
    "  "
   ]
  },
  {
   "cell_type": "markdown",
   "metadata": {},
   "source": [
    "  "
   ]
  },
  {
   "cell_type": "markdown",
   "metadata": {},
   "source": [
    "  "
   ]
  },
  {
   "cell_type": "markdown",
   "metadata": {},
   "source": [
    "## 과거 보유 데이터 분석 및 전처리"
   ]
  },
  {
   "cell_type": "markdown",
   "metadata": {},
   "source": [
    "우선 id, 주식 별로 보유 기간을 구해봅니다. "
   ]
  },
  {
   "cell_type": "code",
   "execution_count": 17,
   "metadata": {},
   "outputs": [
    {
     "data": {
      "text/html": [
       "<div>\n",
       "<style scoped>\n",
       "    .dataframe tbody tr th:only-of-type {\n",
       "        vertical-align: middle;\n",
       "    }\n",
       "\n",
       "    .dataframe tbody tr th {\n",
       "        vertical-align: top;\n",
       "    }\n",
       "\n",
       "    .dataframe thead th {\n",
       "        text-align: right;\n",
       "    }\n",
       "</style>\n",
       "<table border=\"1\" class=\"dataframe\">\n",
       "  <thead>\n",
       "    <tr style=\"text-align: right;\">\n",
       "      <th></th>\n",
       "      <th>act_id</th>\n",
       "      <th>bse_dt</th>\n",
       "      <th>iem_cd</th>\n",
       "      <th>bnc_qty</th>\n",
       "      <th>tot_aet_amt</th>\n",
       "      <th>stk_par_pr</th>\n",
       "    </tr>\n",
       "  </thead>\n",
       "  <tbody>\n",
       "    <tr>\n",
       "      <th>0</th>\n",
       "      <td>1119c23c3a504ca7b75060277410c0f6fb9018ec7638c2...</td>\n",
       "      <td>20200820</td>\n",
       "      <td>A008770</td>\n",
       "      <td>40.0</td>\n",
       "      <td>2828000.0</td>\n",
       "      <td>5000.0</td>\n",
       "    </tr>\n",
       "    <tr>\n",
       "      <th>1</th>\n",
       "      <td>1119c23c3a504ca7b75060277410c0f6fb9018ec7638c2...</td>\n",
       "      <td>20200623</td>\n",
       "      <td>A008770</td>\n",
       "      <td>20.0</td>\n",
       "      <td>1390000.0</td>\n",
       "      <td>5000.0</td>\n",
       "    </tr>\n",
       "    <tr>\n",
       "      <th>2</th>\n",
       "      <td>1119c23c3a504ca7b75060277410c0f6fb9018ec7638c2...</td>\n",
       "      <td>20160104</td>\n",
       "      <td>A005940</td>\n",
       "      <td>311.0</td>\n",
       "      <td>2982490.0</td>\n",
       "      <td>5000.0</td>\n",
       "    </tr>\n",
       "    <tr>\n",
       "      <th>3</th>\n",
       "      <td>1119c23c3a504ca7b75060277410c0f6fb9018ec7638c2...</td>\n",
       "      <td>20200814</td>\n",
       "      <td>A005930</td>\n",
       "      <td>40.0</td>\n",
       "      <td>2320000.0</td>\n",
       "      <td>100.0</td>\n",
       "    </tr>\n",
       "    <tr>\n",
       "      <th>4</th>\n",
       "      <td>1119c23c3a504ca7b75060277410c0f6fb9018ec7638c2...</td>\n",
       "      <td>20200623</td>\n",
       "      <td>A005930</td>\n",
       "      <td>20.0</td>\n",
       "      <td>1028000.0</td>\n",
       "      <td>100.0</td>\n",
       "    </tr>\n",
       "  </tbody>\n",
       "</table>\n",
       "</div>"
      ],
      "text/plain": [
       "                                              act_id    bse_dt   iem_cd  \\\n",
       "0  1119c23c3a504ca7b75060277410c0f6fb9018ec7638c2...  20200820  A008770   \n",
       "1  1119c23c3a504ca7b75060277410c0f6fb9018ec7638c2...  20200623  A008770   \n",
       "2  1119c23c3a504ca7b75060277410c0f6fb9018ec7638c2...  20160104  A005940   \n",
       "3  1119c23c3a504ca7b75060277410c0f6fb9018ec7638c2...  20200814  A005930   \n",
       "4  1119c23c3a504ca7b75060277410c0f6fb9018ec7638c2...  20200623  A005930   \n",
       "\n",
       "   bnc_qty  tot_aet_amt  stk_par_pr  \n",
       "0     40.0    2828000.0      5000.0  \n",
       "1     20.0    1390000.0      5000.0  \n",
       "2    311.0    2982490.0      5000.0  \n",
       "3     40.0    2320000.0       100.0  \n",
       "4     20.0    1028000.0       100.0  "
      ]
     },
     "execution_count": 17,
     "metadata": {},
     "output_type": "execute_result"
    }
   ],
   "source": [
    "hist.head()"
   ]
  },
  {
   "cell_type": "code",
   "execution_count": 18,
   "metadata": {},
   "outputs": [
    {
     "data": {
      "text/html": [
       "<div>\n",
       "<style scoped>\n",
       "    .dataframe tbody tr th:only-of-type {\n",
       "        vertical-align: middle;\n",
       "    }\n",
       "\n",
       "    .dataframe tbody tr th {\n",
       "        vertical-align: top;\n",
       "    }\n",
       "\n",
       "    .dataframe thead th {\n",
       "        text-align: right;\n",
       "    }\n",
       "</style>\n",
       "<table border=\"1\" class=\"dataframe\">\n",
       "  <thead>\n",
       "    <tr style=\"text-align: right;\">\n",
       "      <th></th>\n",
       "      <th>act_id</th>\n",
       "      <th>bse_dt</th>\n",
       "      <th>iem_cd</th>\n",
       "      <th>bnc_qty</th>\n",
       "      <th>tot_aet_amt</th>\n",
       "      <th>stk_par_pr</th>\n",
       "    </tr>\n",
       "  </thead>\n",
       "  <tbody>\n",
       "    <tr>\n",
       "      <th>1555409</th>\n",
       "      <td>fff9cf3aaffd32dcbf70dce8e5216411f9d38537b477d6...</td>\n",
       "      <td>20201204</td>\n",
       "      <td>A204320</td>\n",
       "      <td>1.0</td>\n",
       "      <td>54600.0</td>\n",
       "      <td>1000.0</td>\n",
       "    </tr>\n",
       "    <tr>\n",
       "      <th>1555410</th>\n",
       "      <td>fff9cf3aaffd32dcbf70dce8e5216411f9d38537b477d6...</td>\n",
       "      <td>20201214</td>\n",
       "      <td>A204320</td>\n",
       "      <td>3.0</td>\n",
       "      <td>157200.0</td>\n",
       "      <td>1000.0</td>\n",
       "    </tr>\n",
       "    <tr>\n",
       "      <th>1555411</th>\n",
       "      <td>fff9cf3aaffd32dcbf70dce8e5216411f9d38537b477d6...</td>\n",
       "      <td>20201217</td>\n",
       "      <td>A204320</td>\n",
       "      <td>4.0</td>\n",
       "      <td>216800.0</td>\n",
       "      <td>1000.0</td>\n",
       "    </tr>\n",
       "    <tr>\n",
       "      <th>1555412</th>\n",
       "      <td>fff9cf3aaffd32dcbf70dce8e5216411f9d38537b477d6...</td>\n",
       "      <td>20201223</td>\n",
       "      <td>A204320</td>\n",
       "      <td>0.0</td>\n",
       "      <td>0.0</td>\n",
       "      <td>1000.0</td>\n",
       "    </tr>\n",
       "    <tr>\n",
       "      <th>1555413</th>\n",
       "      <td>fff9cf3aaffd32dcbf70dce8e5216411f9d38537b477d6...</td>\n",
       "      <td>20200910</td>\n",
       "      <td>A217330</td>\n",
       "      <td>16.0</td>\n",
       "      <td>461600.0</td>\n",
       "      <td>500.0</td>\n",
       "    </tr>\n",
       "    <tr>\n",
       "      <th>1555414</th>\n",
       "      <td>fff9cf3aaffd32dcbf70dce8e5216411f9d38537b477d6...</td>\n",
       "      <td>20201013</td>\n",
       "      <td>A251270</td>\n",
       "      <td>1.0</td>\n",
       "      <td>153500.0</td>\n",
       "      <td>100.0</td>\n",
       "    </tr>\n",
       "    <tr>\n",
       "      <th>1555415</th>\n",
       "      <td>fff9cf3aaffd32dcbf70dce8e5216411f9d38537b477d6...</td>\n",
       "      <td>20201208</td>\n",
       "      <td>A251270</td>\n",
       "      <td>0.0</td>\n",
       "      <td>0.0</td>\n",
       "      <td>100.0</td>\n",
       "    </tr>\n",
       "    <tr>\n",
       "      <th>1555416</th>\n",
       "      <td>fff9cf3aaffd32dcbf70dce8e5216411f9d38537b477d6...</td>\n",
       "      <td>20200130</td>\n",
       "      <td>A253450</td>\n",
       "      <td>1.0</td>\n",
       "      <td>84700.0</td>\n",
       "      <td>500.0</td>\n",
       "    </tr>\n",
       "    <tr>\n",
       "      <th>1555417</th>\n",
       "      <td>fff9cf3aaffd32dcbf70dce8e5216411f9d38537b477d6...</td>\n",
       "      <td>20200805</td>\n",
       "      <td>A253450</td>\n",
       "      <td>0.0</td>\n",
       "      <td>0.0</td>\n",
       "      <td>500.0</td>\n",
       "    </tr>\n",
       "    <tr>\n",
       "      <th>1555418</th>\n",
       "      <td>fff9cf3aaffd32dcbf70dce8e5216411f9d38537b477d6...</td>\n",
       "      <td>20201217</td>\n",
       "      <td>A264450</td>\n",
       "      <td>2.0</td>\n",
       "      <td>52900.0</td>\n",
       "      <td>500.0</td>\n",
       "    </tr>\n",
       "    <tr>\n",
       "      <th>1555419</th>\n",
       "      <td>fff9cf3aaffd32dcbf70dce8e5216411f9d38537b477d6...</td>\n",
       "      <td>20201230</td>\n",
       "      <td>A264450</td>\n",
       "      <td>0.0</td>\n",
       "      <td>0.0</td>\n",
       "      <td>500.0</td>\n",
       "    </tr>\n",
       "    <tr>\n",
       "      <th>1555420</th>\n",
       "      <td>fff9cf3aaffd32dcbf70dce8e5216411f9d38537b477d6...</td>\n",
       "      <td>20201007</td>\n",
       "      <td>A267320</td>\n",
       "      <td>15.0</td>\n",
       "      <td>81600.0</td>\n",
       "      <td>100.0</td>\n",
       "    </tr>\n",
       "    <tr>\n",
       "      <th>1555421</th>\n",
       "      <td>fff9cf3aaffd32dcbf70dce8e5216411f9d38537b477d6...</td>\n",
       "      <td>20201214</td>\n",
       "      <td>A267320</td>\n",
       "      <td>0.0</td>\n",
       "      <td>0.0</td>\n",
       "      <td>100.0</td>\n",
       "    </tr>\n",
       "    <tr>\n",
       "      <th>1555422</th>\n",
       "      <td>fff9cf3aaffd32dcbf70dce8e5216411f9d38537b477d6...</td>\n",
       "      <td>20200914</td>\n",
       "      <td>A293490</td>\n",
       "      <td>2.0</td>\n",
       "      <td>147600.0</td>\n",
       "      <td>100.0</td>\n",
       "    </tr>\n",
       "    <tr>\n",
       "      <th>1555423</th>\n",
       "      <td>fff9cf3aaffd32dcbf70dce8e5216411f9d38537b477d6...</td>\n",
       "      <td>20200916</td>\n",
       "      <td>A293490</td>\n",
       "      <td>3.0</td>\n",
       "      <td>198900.0</td>\n",
       "      <td>100.0</td>\n",
       "    </tr>\n",
       "    <tr>\n",
       "      <th>1555424</th>\n",
       "      <td>fff9cf3aaffd32dcbf70dce8e5216411f9d38537b477d6...</td>\n",
       "      <td>20201013</td>\n",
       "      <td>A293490</td>\n",
       "      <td>4.0</td>\n",
       "      <td>196600.0</td>\n",
       "      <td>100.0</td>\n",
       "    </tr>\n",
       "    <tr>\n",
       "      <th>1555425</th>\n",
       "      <td>fff9cf3aaffd32dcbf70dce8e5216411f9d38537b477d6...</td>\n",
       "      <td>20201124</td>\n",
       "      <td>A293490</td>\n",
       "      <td>5.0</td>\n",
       "      <td>245500.0</td>\n",
       "      <td>100.0</td>\n",
       "    </tr>\n",
       "    <tr>\n",
       "      <th>1555426</th>\n",
       "      <td>fff9cf3aaffd32dcbf70dce8e5216411f9d38537b477d6...</td>\n",
       "      <td>20201214</td>\n",
       "      <td>A293490</td>\n",
       "      <td>0.0</td>\n",
       "      <td>0.0</td>\n",
       "      <td>100.0</td>\n",
       "    </tr>\n",
       "    <tr>\n",
       "      <th>1555427</th>\n",
       "      <td>fff9cf3aaffd32dcbf70dce8e5216411f9d38537b477d6...</td>\n",
       "      <td>20200910</td>\n",
       "      <td>A298040</td>\n",
       "      <td>15.0</td>\n",
       "      <td>1072500.0</td>\n",
       "      <td>5000.0</td>\n",
       "    </tr>\n",
       "    <tr>\n",
       "      <th>1555428</th>\n",
       "      <td>fff9cf3aaffd32dcbf70dce8e5216411f9d38537b477d6...</td>\n",
       "      <td>20200915</td>\n",
       "      <td>A298040</td>\n",
       "      <td>0.0</td>\n",
       "      <td>0.0</td>\n",
       "      <td>5000.0</td>\n",
       "    </tr>\n",
       "  </tbody>\n",
       "</table>\n",
       "</div>"
      ],
      "text/plain": [
       "                                                    act_id    bse_dt   iem_cd  \\\n",
       "1555409  fff9cf3aaffd32dcbf70dce8e5216411f9d38537b477d6...  20201204  A204320   \n",
       "1555410  fff9cf3aaffd32dcbf70dce8e5216411f9d38537b477d6...  20201214  A204320   \n",
       "1555411  fff9cf3aaffd32dcbf70dce8e5216411f9d38537b477d6...  20201217  A204320   \n",
       "1555412  fff9cf3aaffd32dcbf70dce8e5216411f9d38537b477d6...  20201223  A204320   \n",
       "1555413  fff9cf3aaffd32dcbf70dce8e5216411f9d38537b477d6...  20200910  A217330   \n",
       "1555414  fff9cf3aaffd32dcbf70dce8e5216411f9d38537b477d6...  20201013  A251270   \n",
       "1555415  fff9cf3aaffd32dcbf70dce8e5216411f9d38537b477d6...  20201208  A251270   \n",
       "1555416  fff9cf3aaffd32dcbf70dce8e5216411f9d38537b477d6...  20200130  A253450   \n",
       "1555417  fff9cf3aaffd32dcbf70dce8e5216411f9d38537b477d6...  20200805  A253450   \n",
       "1555418  fff9cf3aaffd32dcbf70dce8e5216411f9d38537b477d6...  20201217  A264450   \n",
       "1555419  fff9cf3aaffd32dcbf70dce8e5216411f9d38537b477d6...  20201230  A264450   \n",
       "1555420  fff9cf3aaffd32dcbf70dce8e5216411f9d38537b477d6...  20201007  A267320   \n",
       "1555421  fff9cf3aaffd32dcbf70dce8e5216411f9d38537b477d6...  20201214  A267320   \n",
       "1555422  fff9cf3aaffd32dcbf70dce8e5216411f9d38537b477d6...  20200914  A293490   \n",
       "1555423  fff9cf3aaffd32dcbf70dce8e5216411f9d38537b477d6...  20200916  A293490   \n",
       "1555424  fff9cf3aaffd32dcbf70dce8e5216411f9d38537b477d6...  20201013  A293490   \n",
       "1555425  fff9cf3aaffd32dcbf70dce8e5216411f9d38537b477d6...  20201124  A293490   \n",
       "1555426  fff9cf3aaffd32dcbf70dce8e5216411f9d38537b477d6...  20201214  A293490   \n",
       "1555427  fff9cf3aaffd32dcbf70dce8e5216411f9d38537b477d6...  20200910  A298040   \n",
       "1555428  fff9cf3aaffd32dcbf70dce8e5216411f9d38537b477d6...  20200915  A298040   \n",
       "\n",
       "         bnc_qty  tot_aet_amt  stk_par_pr  \n",
       "1555409      1.0      54600.0      1000.0  \n",
       "1555410      3.0     157200.0      1000.0  \n",
       "1555411      4.0     216800.0      1000.0  \n",
       "1555412      0.0          0.0      1000.0  \n",
       "1555413     16.0     461600.0       500.0  \n",
       "1555414      1.0     153500.0       100.0  \n",
       "1555415      0.0          0.0       100.0  \n",
       "1555416      1.0      84700.0       500.0  \n",
       "1555417      0.0          0.0       500.0  \n",
       "1555418      2.0      52900.0       500.0  \n",
       "1555419      0.0          0.0       500.0  \n",
       "1555420     15.0      81600.0       100.0  \n",
       "1555421      0.0          0.0       100.0  \n",
       "1555422      2.0     147600.0       100.0  \n",
       "1555423      3.0     198900.0       100.0  \n",
       "1555424      4.0     196600.0       100.0  \n",
       "1555425      5.0     245500.0       100.0  \n",
       "1555426      0.0          0.0       100.0  \n",
       "1555427     15.0    1072500.0      5000.0  \n",
       "1555428      0.0          0.0      5000.0  "
      ]
     },
     "execution_count": 18,
     "metadata": {},
     "output_type": "execute_result"
    }
   ],
   "source": [
    "hist[hist['act_id']=='fff9cf3aaffd32dcbf70dce8e5216411f9d38537b477d6bc012f43564f626533'].head(20)"
   ]
  },
  {
   "cell_type": "markdown",
   "metadata": {},
   "source": [
    "한 아이디의 거래 내역을 출력해보면 잔고수량이 0이 될 때가 있는데요. \n",
    "\n",
    "잔고수량이 0인 날짜 중 제일 늦은 날짜를 전체 매도 날짜로 잡고, 매수일자 중 가장 빠른 날을 매수일로 하겠습니다."
   ]
  },
  {
   "cell_type": "code",
   "execution_count": 20,
   "metadata": {},
   "outputs": [
    {
     "data": {
      "text/html": [
       "<div>\n",
       "<style scoped>\n",
       "    .dataframe tbody tr th:only-of-type {\n",
       "        vertical-align: middle;\n",
       "    }\n",
       "\n",
       "    .dataframe tbody tr th {\n",
       "        vertical-align: top;\n",
       "    }\n",
       "\n",
       "    .dataframe thead th {\n",
       "        text-align: right;\n",
       "    }\n",
       "</style>\n",
       "<table border=\"1\" class=\"dataframe\">\n",
       "  <thead>\n",
       "    <tr style=\"text-align: right;\">\n",
       "      <th></th>\n",
       "      <th>act_id</th>\n",
       "      <th>iem_cd</th>\n",
       "      <th>byn_dt</th>\n",
       "      <th>bse_dt</th>\n",
       "    </tr>\n",
       "  </thead>\n",
       "  <tbody>\n",
       "    <tr>\n",
       "      <th>0</th>\n",
       "      <td>0000c7a5a5a1db9c7e890da984b20d544c09cb6f51c546...</td>\n",
       "      <td>A002270</td>\n",
       "      <td>20190321</td>\n",
       "      <td>20200818</td>\n",
       "    </tr>\n",
       "    <tr>\n",
       "      <th>1</th>\n",
       "      <td>0000c7a5a5a1db9c7e890da984b20d544c09cb6f51c546...</td>\n",
       "      <td>A005070</td>\n",
       "      <td>20190327</td>\n",
       "      <td>20190423</td>\n",
       "    </tr>\n",
       "    <tr>\n",
       "      <th>2</th>\n",
       "      <td>0000c7a5a5a1db9c7e890da984b20d544c09cb6f51c546...</td>\n",
       "      <td>A005930</td>\n",
       "      <td>20190320</td>\n",
       "      <td>20190321</td>\n",
       "    </tr>\n",
       "    <tr>\n",
       "      <th>3</th>\n",
       "      <td>0000c7a5a5a1db9c7e890da984b20d544c09cb6f51c546...</td>\n",
       "      <td>A033270</td>\n",
       "      <td>20190326</td>\n",
       "      <td>20190712</td>\n",
       "    </tr>\n",
       "    <tr>\n",
       "      <th>4</th>\n",
       "      <td>0000c7a5a5a1db9c7e890da984b20d544c09cb6f51c546...</td>\n",
       "      <td>A036000</td>\n",
       "      <td>20190611</td>\n",
       "      <td>20191220</td>\n",
       "    </tr>\n",
       "    <tr>\n",
       "      <th>...</th>\n",
       "      <td>...</td>\n",
       "      <td>...</td>\n",
       "      <td>...</td>\n",
       "      <td>...</td>\n",
       "    </tr>\n",
       "    <tr>\n",
       "      <th>433500</th>\n",
       "      <td>fff9cf3aaffd32dcbf70dce8e5216411f9d38537b477d6...</td>\n",
       "      <td>A253450</td>\n",
       "      <td>20200130</td>\n",
       "      <td>20200805</td>\n",
       "    </tr>\n",
       "    <tr>\n",
       "      <th>433501</th>\n",
       "      <td>fff9cf3aaffd32dcbf70dce8e5216411f9d38537b477d6...</td>\n",
       "      <td>A264450</td>\n",
       "      <td>20201217</td>\n",
       "      <td>20201230</td>\n",
       "    </tr>\n",
       "    <tr>\n",
       "      <th>433502</th>\n",
       "      <td>fff9cf3aaffd32dcbf70dce8e5216411f9d38537b477d6...</td>\n",
       "      <td>A267320</td>\n",
       "      <td>20201007</td>\n",
       "      <td>20201214</td>\n",
       "    </tr>\n",
       "    <tr>\n",
       "      <th>433503</th>\n",
       "      <td>fff9cf3aaffd32dcbf70dce8e5216411f9d38537b477d6...</td>\n",
       "      <td>A293490</td>\n",
       "      <td>20200914</td>\n",
       "      <td>20201214</td>\n",
       "    </tr>\n",
       "    <tr>\n",
       "      <th>433504</th>\n",
       "      <td>fff9cf3aaffd32dcbf70dce8e5216411f9d38537b477d6...</td>\n",
       "      <td>A298040</td>\n",
       "      <td>20200910</td>\n",
       "      <td>20200915</td>\n",
       "    </tr>\n",
       "  </tbody>\n",
       "</table>\n",
       "<p>433505 rows × 4 columns</p>\n",
       "</div>"
      ],
      "text/plain": [
       "                                                   act_id   iem_cd    byn_dt  \\\n",
       "0       0000c7a5a5a1db9c7e890da984b20d544c09cb6f51c546...  A002270  20190321   \n",
       "1       0000c7a5a5a1db9c7e890da984b20d544c09cb6f51c546...  A005070  20190327   \n",
       "2       0000c7a5a5a1db9c7e890da984b20d544c09cb6f51c546...  A005930  20190320   \n",
       "3       0000c7a5a5a1db9c7e890da984b20d544c09cb6f51c546...  A033270  20190326   \n",
       "4       0000c7a5a5a1db9c7e890da984b20d544c09cb6f51c546...  A036000  20190611   \n",
       "...                                                   ...      ...       ...   \n",
       "433500  fff9cf3aaffd32dcbf70dce8e5216411f9d38537b477d6...  A253450  20200130   \n",
       "433501  fff9cf3aaffd32dcbf70dce8e5216411f9d38537b477d6...  A264450  20201217   \n",
       "433502  fff9cf3aaffd32dcbf70dce8e5216411f9d38537b477d6...  A267320  20201007   \n",
       "433503  fff9cf3aaffd32dcbf70dce8e5216411f9d38537b477d6...  A293490  20200914   \n",
       "433504  fff9cf3aaffd32dcbf70dce8e5216411f9d38537b477d6...  A298040  20200910   \n",
       "\n",
       "          bse_dt  \n",
       "0       20200818  \n",
       "1       20190423  \n",
       "2       20190321  \n",
       "3       20190712  \n",
       "4       20191220  \n",
       "...          ...  \n",
       "433500  20200805  \n",
       "433501  20201230  \n",
       "433502  20201214  \n",
       "433503  20201214  \n",
       "433504  20200915  \n",
       "\n",
       "[433505 rows x 4 columns]"
      ]
     },
     "execution_count": 20,
     "metadata": {},
     "output_type": "execute_result"
    }
   ],
   "source": [
    "## id, 주식 별 그룹 중 가장 빠른 날짜\n",
    "df=pd.DataFrame(hist.groupby(['act_id','iem_cd'])['bse_dt'].min()).reset_index()\n",
    "df.rename(columns={'bse_dt':'byn_dt'},inplace=True)\n",
    "\n",
    "## 잔고수량이 0인 데이터\n",
    "hist0=hist[(hist['bnc_qty'])==0]  \n",
    "df2=pd.DataFrame(hist0.groupby(['act_id','iem_cd'])['bse_dt'].max()).reset_index()\n",
    "\n",
    "## 합치기\n",
    "df3=pd.merge(df,df2,how='inner',on=[\"act_id\",\"iem_cd\"])\n",
    "df3"
   ]
  },
  {
   "cell_type": "markdown",
   "metadata": {},
   "source": [
    "  "
   ]
  },
  {
   "cell_type": "markdown",
   "metadata": {},
   "source": [
    "이제는 주식 보유일을 계산하도록 하겠습니다."
   ]
  },
  {
   "cell_type": "code",
   "execution_count": 21,
   "metadata": {},
   "outputs": [],
   "source": [
    "df3['byn_dt'] = (df3['byn_dt']).astype(str) \n",
    "df3['bse_dt'] = (df3['bse_dt']).astype(str) \n",
    "\n",
    "df3['byn_dt'] = pd.to_datetime(df3['byn_dt'], errors='coerce')\n",
    "df3['bse_dt'] = pd.to_datetime(df3['bse_dt'], errors='coerce')\n",
    "A = [d.date() for d in df3['byn_dt']]\n",
    "B = [d.date() for d in df3['bse_dt']]\n",
    "df3['DIFF'] = np.busday_count(A, B)"
   ]
  },
  {
   "cell_type": "code",
   "execution_count": 22,
   "metadata": {},
   "outputs": [],
   "source": [
    "## 편한 merge를 위해 이름을 다시 바꾸겠습니다. hist의 날짜도 datetime 형식으로 바꾸었습니다.\n",
    "df3.rename(columns={'byn_dt':'bse_dt','bse_dt':'bse_dt2'},inplace=True)\n",
    "hist['bse_dt'] = (hist['bse_dt']).astype(str) \n",
    "hist['bse_dt'] = pd.to_datetime(hist['bse_dt'], errors='coerce')"
   ]
  },
  {
   "cell_type": "code",
   "execution_count": 23,
   "metadata": {},
   "outputs": [],
   "source": [
    "new_hist=pd.merge(df3,hist,how='inner',on=[\"act_id\",\"iem_cd\",\"bse_dt\"])\n",
    "new_hist=new_hist[['act_id','iem_cd','bse_dt','DIFF','bnc_qty','tot_aet_amt']]  \n",
    "new_hist[\"stk_p\"] = new_hist[\"tot_aet_amt\"] / new_hist[\"bnc_qty\"]\n",
    "new_hist = new_hist.fillna(0)"
   ]
  },
  {
   "cell_type": "code",
   "execution_count": 24,
   "metadata": {},
   "outputs": [
    {
     "data": {
      "text/html": [
       "<div>\n",
       "<style scoped>\n",
       "    .dataframe tbody tr th:only-of-type {\n",
       "        vertical-align: middle;\n",
       "    }\n",
       "\n",
       "    .dataframe tbody tr th {\n",
       "        vertical-align: top;\n",
       "    }\n",
       "\n",
       "    .dataframe thead th {\n",
       "        text-align: right;\n",
       "    }\n",
       "</style>\n",
       "<table border=\"1\" class=\"dataframe\">\n",
       "  <thead>\n",
       "    <tr style=\"text-align: right;\">\n",
       "      <th></th>\n",
       "      <th>act_id</th>\n",
       "      <th>iem_cd</th>\n",
       "      <th>bse_dt</th>\n",
       "      <th>DIFF</th>\n",
       "      <th>bnc_qty</th>\n",
       "      <th>tot_aet_amt</th>\n",
       "      <th>stk_p</th>\n",
       "    </tr>\n",
       "  </thead>\n",
       "  <tbody>\n",
       "    <tr>\n",
       "      <th>0</th>\n",
       "      <td>0000c7a5a5a1db9c7e890da984b20d544c09cb6f51c546...</td>\n",
       "      <td>A002270</td>\n",
       "      <td>2019-03-21</td>\n",
       "      <td>368</td>\n",
       "      <td>1.0</td>\n",
       "      <td>667000.0</td>\n",
       "      <td>667000.0</td>\n",
       "    </tr>\n",
       "    <tr>\n",
       "      <th>1</th>\n",
       "      <td>0000c7a5a5a1db9c7e890da984b20d544c09cb6f51c546...</td>\n",
       "      <td>A005070</td>\n",
       "      <td>2019-03-27</td>\n",
       "      <td>19</td>\n",
       "      <td>10.0</td>\n",
       "      <td>152500.0</td>\n",
       "      <td>15250.0</td>\n",
       "    </tr>\n",
       "    <tr>\n",
       "      <th>2</th>\n",
       "      <td>0000c7a5a5a1db9c7e890da984b20d544c09cb6f51c546...</td>\n",
       "      <td>A005930</td>\n",
       "      <td>2019-03-20</td>\n",
       "      <td>1</td>\n",
       "      <td>10.0</td>\n",
       "      <td>440500.0</td>\n",
       "      <td>44050.0</td>\n",
       "    </tr>\n",
       "    <tr>\n",
       "      <th>3</th>\n",
       "      <td>0000c7a5a5a1db9c7e890da984b20d544c09cb6f51c546...</td>\n",
       "      <td>A033270</td>\n",
       "      <td>2019-03-26</td>\n",
       "      <td>78</td>\n",
       "      <td>5.0</td>\n",
       "      <td>130250.0</td>\n",
       "      <td>26050.0</td>\n",
       "    </tr>\n",
       "    <tr>\n",
       "      <th>4</th>\n",
       "      <td>0000c7a5a5a1db9c7e890da984b20d544c09cb6f51c546...</td>\n",
       "      <td>A036000</td>\n",
       "      <td>2019-06-11</td>\n",
       "      <td>138</td>\n",
       "      <td>20.0</td>\n",
       "      <td>99300.0</td>\n",
       "      <td>4965.0</td>\n",
       "    </tr>\n",
       "    <tr>\n",
       "      <th>...</th>\n",
       "      <td>...</td>\n",
       "      <td>...</td>\n",
       "      <td>...</td>\n",
       "      <td>...</td>\n",
       "      <td>...</td>\n",
       "      <td>...</td>\n",
       "      <td>...</td>\n",
       "    </tr>\n",
       "    <tr>\n",
       "      <th>433500</th>\n",
       "      <td>fff9cf3aaffd32dcbf70dce8e5216411f9d38537b477d6...</td>\n",
       "      <td>A253450</td>\n",
       "      <td>2020-01-30</td>\n",
       "      <td>134</td>\n",
       "      <td>1.0</td>\n",
       "      <td>84700.0</td>\n",
       "      <td>84700.0</td>\n",
       "    </tr>\n",
       "    <tr>\n",
       "      <th>433501</th>\n",
       "      <td>fff9cf3aaffd32dcbf70dce8e5216411f9d38537b477d6...</td>\n",
       "      <td>A264450</td>\n",
       "      <td>2020-12-17</td>\n",
       "      <td>9</td>\n",
       "      <td>2.0</td>\n",
       "      <td>52900.0</td>\n",
       "      <td>26450.0</td>\n",
       "    </tr>\n",
       "    <tr>\n",
       "      <th>433502</th>\n",
       "      <td>fff9cf3aaffd32dcbf70dce8e5216411f9d38537b477d6...</td>\n",
       "      <td>A267320</td>\n",
       "      <td>2020-10-07</td>\n",
       "      <td>48</td>\n",
       "      <td>15.0</td>\n",
       "      <td>81600.0</td>\n",
       "      <td>5440.0</td>\n",
       "    </tr>\n",
       "    <tr>\n",
       "      <th>433503</th>\n",
       "      <td>fff9cf3aaffd32dcbf70dce8e5216411f9d38537b477d6...</td>\n",
       "      <td>A293490</td>\n",
       "      <td>2020-09-14</td>\n",
       "      <td>65</td>\n",
       "      <td>2.0</td>\n",
       "      <td>147600.0</td>\n",
       "      <td>73800.0</td>\n",
       "    </tr>\n",
       "    <tr>\n",
       "      <th>433504</th>\n",
       "      <td>fff9cf3aaffd32dcbf70dce8e5216411f9d38537b477d6...</td>\n",
       "      <td>A298040</td>\n",
       "      <td>2020-09-10</td>\n",
       "      <td>3</td>\n",
       "      <td>15.0</td>\n",
       "      <td>1072500.0</td>\n",
       "      <td>71500.0</td>\n",
       "    </tr>\n",
       "  </tbody>\n",
       "</table>\n",
       "<p>433505 rows × 7 columns</p>\n",
       "</div>"
      ],
      "text/plain": [
       "                                                   act_id   iem_cd     bse_dt  \\\n",
       "0       0000c7a5a5a1db9c7e890da984b20d544c09cb6f51c546...  A002270 2019-03-21   \n",
       "1       0000c7a5a5a1db9c7e890da984b20d544c09cb6f51c546...  A005070 2019-03-27   \n",
       "2       0000c7a5a5a1db9c7e890da984b20d544c09cb6f51c546...  A005930 2019-03-20   \n",
       "3       0000c7a5a5a1db9c7e890da984b20d544c09cb6f51c546...  A033270 2019-03-26   \n",
       "4       0000c7a5a5a1db9c7e890da984b20d544c09cb6f51c546...  A036000 2019-06-11   \n",
       "...                                                   ...      ...        ...   \n",
       "433500  fff9cf3aaffd32dcbf70dce8e5216411f9d38537b477d6...  A253450 2020-01-30   \n",
       "433501  fff9cf3aaffd32dcbf70dce8e5216411f9d38537b477d6...  A264450 2020-12-17   \n",
       "433502  fff9cf3aaffd32dcbf70dce8e5216411f9d38537b477d6...  A267320 2020-10-07   \n",
       "433503  fff9cf3aaffd32dcbf70dce8e5216411f9d38537b477d6...  A293490 2020-09-14   \n",
       "433504  fff9cf3aaffd32dcbf70dce8e5216411f9d38537b477d6...  A298040 2020-09-10   \n",
       "\n",
       "        DIFF  bnc_qty  tot_aet_amt     stk_p  \n",
       "0        368      1.0     667000.0  667000.0  \n",
       "1         19     10.0     152500.0   15250.0  \n",
       "2          1     10.0     440500.0   44050.0  \n",
       "3         78      5.0     130250.0   26050.0  \n",
       "4        138     20.0      99300.0    4965.0  \n",
       "...      ...      ...          ...       ...  \n",
       "433500   134      1.0      84700.0   84700.0  \n",
       "433501     9      2.0      52900.0   26450.0  \n",
       "433502    48     15.0      81600.0    5440.0  \n",
       "433503    65      2.0     147600.0   73800.0  \n",
       "433504     3     15.0    1072500.0   71500.0  \n",
       "\n",
       "[433505 rows x 7 columns]"
      ]
     },
     "execution_count": 24,
     "metadata": {},
     "output_type": "execute_result"
    }
   ],
   "source": [
    "new_hist"
   ]
  },
  {
   "cell_type": "code",
   "execution_count": 25,
   "metadata": {},
   "outputs": [],
   "source": [
    "new_hist['iem_cd']=new_hist['iem_cd'].str.slice(start=1, stop=7)\n",
    "hist_b=new_hist[['act_id','iem_cd','DIFF']]\n",
    "new=pd.merge(hist,hist_b,how='left',on=['act_id','iem_cd'])\n",
    "new[['bse_dt']] = new[['bse_dt']].applymap(str).applymap(lambda s: \"{}-{}-{}\".format(s[0:4],s[4:6],s[6:] ))"
   ]
  },
  {
   "cell_type": "markdown",
   "metadata": {},
   "source": [
    "여기서 추후에 보정하고자 하는 것은 주말을 제외한 공휴일을 추가하는 것입니다.\n",
    "\n",
    "참고로 전량 매도를 하지 않은 주식은  2020-12-31까지의 보유기간을 넣었습니다.\n"
   ]
  },
  {
   "cell_type": "code",
   "execution_count": 249,
   "metadata": {},
   "outputs": [
    {
     "name": "stderr",
     "output_type": "stream",
     "text": [
      "<ipython-input-249-c56ba526e340>:3: SettingWithCopyWarning: \n",
      "A value is trying to be set on a copy of a slice from a DataFrame\n",
      "\n",
      "See the caveats in the documentation: https://pandas.pydata.org/pandas-docs/stable/user_guide/indexing.html#returning-a-view-versus-a-copy\n",
      "  new['DIFF'][i] = np.busday_count(new['bse_dt'][i], '2020-12-31')\n"
     ]
    }
   ],
   "source": [
    "for i in range(0,len(new)):\n",
    "    if pd.isnull(new['DIFF'][i]):\n",
    "        new['DIFF'][i] = np.busday_count(new['bse_dt'][i], '2020-12-31')\n"
   ]
  },
  {
   "cell_type": "code",
   "execution_count": 252,
   "metadata": {},
   "outputs": [],
   "source": [
    "new.to_csv('new.csv',index=False)"
   ]
  },
  {
   "cell_type": "code",
   "execution_count": 257,
   "metadata": {},
   "outputs": [
    {
     "data": {
      "text/html": [
       "<div>\n",
       "<style scoped>\n",
       "    .dataframe tbody tr th:only-of-type {\n",
       "        vertical-align: middle;\n",
       "    }\n",
       "\n",
       "    .dataframe tbody tr th {\n",
       "        vertical-align: top;\n",
       "    }\n",
       "\n",
       "    .dataframe thead th {\n",
       "        text-align: right;\n",
       "    }\n",
       "</style>\n",
       "<table border=\"1\" class=\"dataframe\">\n",
       "  <thead>\n",
       "    <tr style=\"text-align: right;\">\n",
       "      <th></th>\n",
       "      <th>act_id</th>\n",
       "      <th>bse_dt</th>\n",
       "      <th>iem_cd</th>\n",
       "      <th>bnc_qty</th>\n",
       "      <th>tot_aet_amt</th>\n",
       "      <th>stk_par_pr</th>\n",
       "      <th>DIFF</th>\n",
       "    </tr>\n",
       "  </thead>\n",
       "  <tbody>\n",
       "    <tr>\n",
       "      <th>0</th>\n",
       "      <td>1119c23c3a504ca7b75060277410c0f6fb9018ec7638c2...</td>\n",
       "      <td>2020-08-20</td>\n",
       "      <td>008770</td>\n",
       "      <td>40.0</td>\n",
       "      <td>2828000.0</td>\n",
       "      <td>5000.0</td>\n",
       "      <td>95.0</td>\n",
       "    </tr>\n",
       "    <tr>\n",
       "      <th>1</th>\n",
       "      <td>1119c23c3a504ca7b75060277410c0f6fb9018ec7638c2...</td>\n",
       "      <td>2020-06-23</td>\n",
       "      <td>008770</td>\n",
       "      <td>20.0</td>\n",
       "      <td>1390000.0</td>\n",
       "      <td>5000.0</td>\n",
       "      <td>137.0</td>\n",
       "    </tr>\n",
       "    <tr>\n",
       "      <th>2</th>\n",
       "      <td>1119c23c3a504ca7b75060277410c0f6fb9018ec7638c2...</td>\n",
       "      <td>2016-01-04</td>\n",
       "      <td>005940</td>\n",
       "      <td>311.0</td>\n",
       "      <td>2982490.0</td>\n",
       "      <td>5000.0</td>\n",
       "      <td>1303.0</td>\n",
       "    </tr>\n",
       "    <tr>\n",
       "      <th>3</th>\n",
       "      <td>1119c23c3a504ca7b75060277410c0f6fb9018ec7638c2...</td>\n",
       "      <td>2020-08-14</td>\n",
       "      <td>005930</td>\n",
       "      <td>40.0</td>\n",
       "      <td>2320000.0</td>\n",
       "      <td>100.0</td>\n",
       "      <td>99.0</td>\n",
       "    </tr>\n",
       "    <tr>\n",
       "      <th>4</th>\n",
       "      <td>1119c23c3a504ca7b75060277410c0f6fb9018ec7638c2...</td>\n",
       "      <td>2020-06-23</td>\n",
       "      <td>005930</td>\n",
       "      <td>20.0</td>\n",
       "      <td>1028000.0</td>\n",
       "      <td>100.0</td>\n",
       "      <td>137.0</td>\n",
       "    </tr>\n",
       "    <tr>\n",
       "      <th>...</th>\n",
       "      <td>...</td>\n",
       "      <td>...</td>\n",
       "      <td>...</td>\n",
       "      <td>...</td>\n",
       "      <td>...</td>\n",
       "      <td>...</td>\n",
       "      <td>...</td>\n",
       "    </tr>\n",
       "    <tr>\n",
       "      <th>2573834</th>\n",
       "      <td>720aa28d24bfa8fbeddf4fe625cb53af0a6f7ff2d526de...</td>\n",
       "      <td>2020-08-06</td>\n",
       "      <td>035720</td>\n",
       "      <td>1.0</td>\n",
       "      <td>364000.0</td>\n",
       "      <td>500.0</td>\n",
       "      <td>13.0</td>\n",
       "    </tr>\n",
       "    <tr>\n",
       "      <th>2573835</th>\n",
       "      <td>720aa28d24bfa8fbeddf4fe625cb53af0a6f7ff2d526de...</td>\n",
       "      <td>2020-08-13</td>\n",
       "      <td>035720</td>\n",
       "      <td>0.0</td>\n",
       "      <td>0.0</td>\n",
       "      <td>500.0</td>\n",
       "      <td>13.0</td>\n",
       "    </tr>\n",
       "    <tr>\n",
       "      <th>2573836</th>\n",
       "      <td>720aa28d24bfa8fbeddf4fe625cb53af0a6f7ff2d526de...</td>\n",
       "      <td>2020-08-19</td>\n",
       "      <td>035720</td>\n",
       "      <td>1.0</td>\n",
       "      <td>376500.0</td>\n",
       "      <td>500.0</td>\n",
       "      <td>13.0</td>\n",
       "    </tr>\n",
       "    <tr>\n",
       "      <th>2573837</th>\n",
       "      <td>720aa28d24bfa8fbeddf4fe625cb53af0a6f7ff2d526de...</td>\n",
       "      <td>2020-08-25</td>\n",
       "      <td>035720</td>\n",
       "      <td>0.0</td>\n",
       "      <td>0.0</td>\n",
       "      <td>500.0</td>\n",
       "      <td>13.0</td>\n",
       "    </tr>\n",
       "    <tr>\n",
       "      <th>2573838</th>\n",
       "      <td>720aa28d24bfa8fbeddf4fe625cb53af0a6f7ff2d526de...</td>\n",
       "      <td>2020-09-01</td>\n",
       "      <td>035720</td>\n",
       "      <td>1.0</td>\n",
       "      <td>401500.0</td>\n",
       "      <td>500.0</td>\n",
       "      <td>13.0</td>\n",
       "    </tr>\n",
       "  </tbody>\n",
       "</table>\n",
       "<p>2573839 rows × 7 columns</p>\n",
       "</div>"
      ],
      "text/plain": [
       "                                                    act_id      bse_dt  \\\n",
       "0        1119c23c3a504ca7b75060277410c0f6fb9018ec7638c2...  2020-08-20   \n",
       "1        1119c23c3a504ca7b75060277410c0f6fb9018ec7638c2...  2020-06-23   \n",
       "2        1119c23c3a504ca7b75060277410c0f6fb9018ec7638c2...  2016-01-04   \n",
       "3        1119c23c3a504ca7b75060277410c0f6fb9018ec7638c2...  2020-08-14   \n",
       "4        1119c23c3a504ca7b75060277410c0f6fb9018ec7638c2...  2020-06-23   \n",
       "...                                                    ...         ...   \n",
       "2573834  720aa28d24bfa8fbeddf4fe625cb53af0a6f7ff2d526de...  2020-08-06   \n",
       "2573835  720aa28d24bfa8fbeddf4fe625cb53af0a6f7ff2d526de...  2020-08-13   \n",
       "2573836  720aa28d24bfa8fbeddf4fe625cb53af0a6f7ff2d526de...  2020-08-19   \n",
       "2573837  720aa28d24bfa8fbeddf4fe625cb53af0a6f7ff2d526de...  2020-08-25   \n",
       "2573838  720aa28d24bfa8fbeddf4fe625cb53af0a6f7ff2d526de...  2020-09-01   \n",
       "\n",
       "         iem_cd  bnc_qty  tot_aet_amt  stk_par_pr    DIFF  \n",
       "0        008770     40.0    2828000.0      5000.0    95.0  \n",
       "1        008770     20.0    1390000.0      5000.0   137.0  \n",
       "2        005940    311.0    2982490.0      5000.0  1303.0  \n",
       "3        005930     40.0    2320000.0       100.0    99.0  \n",
       "4        005930     20.0    1028000.0       100.0   137.0  \n",
       "...         ...      ...          ...         ...     ...  \n",
       "2573834  035720      1.0     364000.0       500.0    13.0  \n",
       "2573835  035720      0.0          0.0       500.0    13.0  \n",
       "2573836  035720      1.0     376500.0       500.0    13.0  \n",
       "2573837  035720      0.0          0.0       500.0    13.0  \n",
       "2573838  035720      1.0     401500.0       500.0    13.0  \n",
       "\n",
       "[2573839 rows x 7 columns]"
      ]
     },
     "execution_count": 257,
     "metadata": {},
     "output_type": "execute_result"
    }
   ],
   "source": [
    "new"
   ]
  },
  {
   "cell_type": "markdown",
   "metadata": {},
   "source": [
    "  "
   ]
  },
  {
   "cell_type": "markdown",
   "metadata": {},
   "source": [
    "  "
   ]
  },
  {
   "cell_type": "markdown",
   "metadata": {},
   "source": [
    "  "
   ]
  },
  {
   "cell_type": "markdown",
   "metadata": {},
   "source": [
    "## Train, Test 데이터 준비"
   ]
  },
  {
   "cell_type": "code",
   "execution_count": 70,
   "metadata": {},
   "outputs": [],
   "source": [
    "test=pd.read_csv('./stk_hld_test.csv') ## 20년 이전~21년 \n",
    "train=pd.read_csv('./stk_hld_train.csv') ## 16년~20년\n",
    "new=pd.read_csv('./new.csv')  ## hist"
   ]
  },
  {
   "cell_type": "code",
   "execution_count": 71,
   "metadata": {},
   "outputs": [],
   "source": [
    "cus_2=cus[['act_id','sex_dit_cd','cus_aet_stn_cd','lsg_sgm_cd','tco_cus_grd_cd','tot_ivs_te_sgm_cd','mrz_btp_dit_cd','ivs_icn_cd']]"
   ]
  },
  {
   "cell_type": "code",
   "execution_count": 72,
   "metadata": {},
   "outputs": [],
   "source": [
    "train[\"hist_d\"] = train[\"hold_d\"]*0.55\n",
    "train.hist_d = np.trunc(train[\"hist_d\"])\n",
    "\n",
    "train['iem_cd']=train['iem_cd'].str.slice(start=1, stop=7)  \n",
    "test['iem_cd']=test['iem_cd'].str.slice(start=1, stop=7)"
   ]
  },
  {
   "cell_type": "code",
   "execution_count": 73,
   "metadata": {},
   "outputs": [],
   "source": [
    "new['bse_dt']=new['bse_dt'].str.replace('-','').apply(int)"
   ]
  },
  {
   "cell_type": "code",
   "execution_count": 74,
   "metadata": {},
   "outputs": [],
   "source": [
    "new[\"stk_p\"] = new[\"tot_aet_amt\"] / new[\"bnc_qty\"]\n",
    "new = new.fillna(0)"
   ]
  },
  {
   "cell_type": "code",
   "execution_count": 75,
   "metadata": {},
   "outputs": [],
   "source": [
    "# train과 test에 고객정보(cus_info)와 주식정보(iem_info)를 추가하겠습니다.\n",
    "\n",
    "train_data = pd.merge(train, cus_2, how = \"left\", on = [\"act_id\"])\n",
    "train_data = pd.merge(train_data, iem, how = \"left\", on = [\"iem_cd\"])\n",
    "\n",
    "test_data = pd.merge(test, cus_2, how = \"left\", on = [\"act_id\"])\n",
    "test_data = pd.merge(test_data, iem, how = \"left\", on = [\"iem_cd\"])\n",
    "\n",
    "# train_data에서 Y값을 추출한 후 hold_d column을 지워주겠습니다.\n",
    "\n",
    "train_label = train_data[\"hold_d\"]\n",
    "train_data.drop([\"hold_d\"], axis = 1, inplace = True)"
   ]
  },
  {
   "cell_type": "code",
   "execution_count": 76,
   "metadata": {},
   "outputs": [],
   "source": [
    "train_data = pd.merge(train_data, new, how = \"left\", on = [\"act_id\", \"iem_cd\"])\n",
    "train_data = train_data[(train_data[\"byn_dt\"] == train_data[\"bse_dt\"])]\n",
    "train_data.reset_index(drop = True, inplace = True)\n",
    "\n",
    "test_data = pd.merge(test_data, new, how = \"left\", on = [\"act_id\", \"iem_cd\"])\n",
    "test_data = test_data[(test_data[\"byn_dt\"] == test_data[\"bse_dt\"])]\n",
    "test_data.reset_index(drop = True, inplace = True)\n"
   ]
  },
  {
   "cell_type": "markdown",
   "metadata": {},
   "source": [
    "### 추가적으로 전처리를 하겠습니다."
   ]
  },
  {
   "cell_type": "code",
   "execution_count": 77,
   "metadata": {},
   "outputs": [],
   "source": [
    "train_data['byn_dt'] = (train_data['byn_dt']).astype(str) \n",
    "train_data['byn_dt']=pd.to_datetime(train_data['byn_dt'], errors='coerce')\n",
    "\n",
    "train_data['week'] = train_data['byn_dt'].dt.weekofyear\n",
    "train_data['year'] = train_data['byn_dt'].dt.year\n",
    "train_data['month'] = train_data['byn_dt'].dt.month\n",
    "\n",
    "test_data['byn_dt'] = (test_data['byn_dt']).astype(str) \n",
    "test_data['byn_dt']=pd.to_datetime(test_data['byn_dt'], errors='coerce')\n",
    "\n",
    "test_data['week'] = test_data['byn_dt'].dt.weekofyear\n",
    "test_data['year'] = test_data['byn_dt'].dt.year\n",
    "test_data['month'] = test_data['byn_dt'].dt.month"
   ]
  },
  {
   "cell_type": "code",
   "execution_count": 79,
   "metadata": {},
   "outputs": [],
   "source": [
    "train_data=train_data.drop(['byn_dt','bse_dt','act_id','iem_cd',\"tot_aet_amt\",\"bnc_qty\",'stk_par_pr'], axis = 1)\n",
    "test_data=test_data.drop(['byn_dt','bse_dt','submit_id','hold_d','act_id','iem_cd',\"tot_aet_amt\",\"bnc_qty\",'stk_par_pr'], axis = 1)"
   ]
  },
  {
   "cell_type": "code",
   "execution_count": 81,
   "metadata": {},
   "outputs": [
    {
     "name": "stdout",
     "output_type": "stream",
     "text": [
      "<class 'pandas.core.frame.DataFrame'>\n",
      "RangeIndex: 70596 entries, 0 to 70595\n",
      "Data columns (total 16 columns):\n",
      " #   Column                Non-Null Count  Dtype  \n",
      "---  ------                --------------  -----  \n",
      " 0   hist_d                70596 non-null  int64  \n",
      " 1   sex_dit_cd            70596 non-null  int64  \n",
      " 2   cus_aet_stn_cd        70596 non-null  int64  \n",
      " 3   lsg_sgm_cd            70596 non-null  int64  \n",
      " 4   tco_cus_grd_cd        70596 non-null  int64  \n",
      " 5   tot_ivs_te_sgm_cd     70596 non-null  int64  \n",
      " 6   mrz_btp_dit_cd        70596 non-null  int64  \n",
      " 7   ivs_icn_cd            70596 non-null  int64  \n",
      " 8   btp_cfc_cd            70596 non-null  int64  \n",
      " 9   mkt_pr_tal_scl_tp_cd  70596 non-null  int64  \n",
      " 10  Market                70596 non-null  int64  \n",
      " 11  DIFF                  70596 non-null  float64\n",
      " 12  stk_p                 70596 non-null  float64\n",
      " 13  week                  70596 non-null  int64  \n",
      " 14  year                  70596 non-null  int64  \n",
      " 15  month                 70596 non-null  int64  \n",
      "dtypes: float64(2), int64(14)\n",
      "memory usage: 8.6 MB\n"
     ]
    }
   ],
   "source": [
    "test_data.info()"
   ]
  },
  {
   "cell_type": "code",
   "execution_count": 80,
   "metadata": {},
   "outputs": [
    {
     "name": "stdout",
     "output_type": "stream",
     "text": [
      "(681472, 16)\n",
      "(70596, 16)\n"
     ]
    }
   ],
   "source": [
    "print(train_data.shape)\n",
    "print(test_data.shape)"
   ]
  },
  {
   "cell_type": "markdown",
   "metadata": {},
   "source": [
    "  "
   ]
  },
  {
   "cell_type": "markdown",
   "metadata": {},
   "source": [
    "  "
   ]
  },
  {
   "cell_type": "markdown",
   "metadata": {},
   "source": [
    "  "
   ]
  },
  {
   "cell_type": "markdown",
   "metadata": {},
   "source": [
    "    "
   ]
  },
  {
   "cell_type": "markdown",
   "metadata": {},
   "source": [
    "## LGBM + StratifiedKFold"
   ]
  },
  {
   "cell_type": "markdown",
   "metadata": {},
   "source": [
    "모델은 lgbm과 stratified k fold를 사용하였습니다. "
   ]
  },
  {
   "cell_type": "code",
   "execution_count": 82,
   "metadata": {},
   "outputs": [
    {
     "name": "stderr",
     "output_type": "stream",
     "text": [
      "C:\\Users\\Jeong Eun\\anaconda3\\lib\\site-packages\\sklearn\\model_selection\\_split.py:670: UserWarning: The least populated class in y has only 1 members, which is less than n_splits=10.\n",
      "  warnings.warn((\"The least populated class in y has only %d\"\n"
     ]
    },
    {
     "name": "stdout",
     "output_type": "stream",
     "text": [
      "Training until validation scores don't improve for 100 rounds\n",
      "[100]\tvalid_0's rmse: 19.2392\tvalid_0's l2: 370.145\n",
      "[200]\tvalid_0's rmse: 7.05555\tvalid_0's l2: 49.7808\n",
      "[300]\tvalid_0's rmse: 2.61607\tvalid_0's l2: 6.84384\n",
      "[400]\tvalid_0's rmse: 1.05056\tvalid_0's l2: 1.10367\n",
      "[500]\tvalid_0's rmse: 0.575145\tvalid_0's l2: 0.330792\n",
      "[600]\tvalid_0's rmse: 0.480658\tvalid_0's l2: 0.231032\n",
      "[700]\tvalid_0's rmse: 0.46425\tvalid_0's l2: 0.215528\n",
      "[800]\tvalid_0's rmse: 0.464053\tvalid_0's l2: 0.215345\n",
      "Early stopping, best iteration is:\n",
      "[716]\tvalid_0's rmse: 0.463069\tvalid_0's l2: 0.214433\n",
      "Training until validation scores don't improve for 100 rounds\n",
      "[100]\tvalid_0's rmse: 19.2334\tvalid_0's l2: 369.923\n",
      "[200]\tvalid_0's rmse: 7.07175\tvalid_0's l2: 50.0096\n",
      "[300]\tvalid_0's rmse: 2.68169\tvalid_0's l2: 7.19143\n",
      "[400]\tvalid_0's rmse: 1.2283\tvalid_0's l2: 1.50872\n",
      "[500]\tvalid_0's rmse: 0.87948\tvalid_0's l2: 0.773485\n",
      "[600]\tvalid_0's rmse: 0.829685\tvalid_0's l2: 0.688377\n",
      "Early stopping, best iteration is:\n",
      "[599]\tvalid_0's rmse: 0.829673\tvalid_0's l2: 0.688357\n",
      "Training until validation scores don't improve for 100 rounds\n",
      "[100]\tvalid_0's rmse: 19.4508\tvalid_0's l2: 378.333\n",
      "[200]\tvalid_0's rmse: 7.23098\tvalid_0's l2: 52.2871\n",
      "[300]\tvalid_0's rmse: 2.85227\tvalid_0's l2: 8.13545\n",
      "[400]\tvalid_0's rmse: 1.42165\tvalid_0's l2: 2.02108\n",
      "[500]\tvalid_0's rmse: 1.04489\tvalid_0's l2: 1.09181\n",
      "[600]\tvalid_0's rmse: 0.939543\tvalid_0's l2: 0.882741\n",
      "[700]\tvalid_0's rmse: 0.905556\tvalid_0's l2: 0.820032\n",
      "[800]\tvalid_0's rmse: 0.889432\tvalid_0's l2: 0.79109\n",
      "[900]\tvalid_0's rmse: 0.881856\tvalid_0's l2: 0.777669\n",
      "[1000]\tvalid_0's rmse: 0.879759\tvalid_0's l2: 0.773976\n",
      "[1100]\tvalid_0's rmse: 0.878904\tvalid_0's l2: 0.772473\n",
      "Early stopping, best iteration is:\n",
      "[1045]\tvalid_0's rmse: 0.877512\tvalid_0's l2: 0.770027\n",
      "Training until validation scores don't improve for 100 rounds\n",
      "[100]\tvalid_0's rmse: 19.3495\tvalid_0's l2: 374.405\n",
      "[200]\tvalid_0's rmse: 7.11246\tvalid_0's l2: 50.5872\n",
      "[300]\tvalid_0's rmse: 2.66034\tvalid_0's l2: 7.07742\n",
      "[400]\tvalid_0's rmse: 1.1135\tvalid_0's l2: 1.23989\n",
      "[500]\tvalid_0's rmse: 0.692313\tvalid_0's l2: 0.479297\n",
      "[600]\tvalid_0's rmse: 0.617253\tvalid_0's l2: 0.381001\n",
      "[700]\tvalid_0's rmse: 0.609176\tvalid_0's l2: 0.371095\n",
      "[800]\tvalid_0's rmse: 0.606739\tvalid_0's l2: 0.368132\n",
      "[900]\tvalid_0's rmse: 0.609705\tvalid_0's l2: 0.371741\n",
      "Early stopping, best iteration is:\n",
      "[847]\tvalid_0's rmse: 0.60384\tvalid_0's l2: 0.364623\n",
      "Training until validation scores don't improve for 100 rounds\n",
      "[100]\tvalid_0's rmse: 19.2847\tvalid_0's l2: 371.901\n",
      "[200]\tvalid_0's rmse: 7.09528\tvalid_0's l2: 50.343\n",
      "[300]\tvalid_0's rmse: 2.64519\tvalid_0's l2: 6.99702\n",
      "[400]\tvalid_0's rmse: 1.06772\tvalid_0's l2: 1.14004\n",
      "[500]\tvalid_0's rmse: 0.586491\tvalid_0's l2: 0.343972\n",
      "[600]\tvalid_0's rmse: 0.528388\tvalid_0's l2: 0.279194\n",
      "[700]\tvalid_0's rmse: 0.519561\tvalid_0's l2: 0.269944\n",
      "[800]\tvalid_0's rmse: 0.502272\tvalid_0's l2: 0.252278\n",
      "[900]\tvalid_0's rmse: 0.503258\tvalid_0's l2: 0.253269\n",
      "Early stopping, best iteration is:\n",
      "[837]\tvalid_0's rmse: 0.498298\tvalid_0's l2: 0.248301\n",
      "Training until validation scores don't improve for 100 rounds\n",
      "[100]\tvalid_0's rmse: 19.195\tvalid_0's l2: 368.447\n",
      "[200]\tvalid_0's rmse: 7.0432\tvalid_0's l2: 49.6066\n",
      "[300]\tvalid_0's rmse: 2.64131\tvalid_0's l2: 6.9765\n",
      "[400]\tvalid_0's rmse: 1.14128\tvalid_0's l2: 1.30252\n",
      "[500]\tvalid_0's rmse: 0.747749\tvalid_0's l2: 0.559129\n",
      "[600]\tvalid_0's rmse: 0.678128\tvalid_0's l2: 0.459857\n",
      "[700]\tvalid_0's rmse: 0.664415\tvalid_0's l2: 0.441447\n",
      "[800]\tvalid_0's rmse: 0.670149\tvalid_0's l2: 0.449099\n",
      "Early stopping, best iteration is:\n",
      "[703]\tvalid_0's rmse: 0.663991\tvalid_0's l2: 0.440884\n",
      "Training until validation scores don't improve for 100 rounds\n",
      "[100]\tvalid_0's rmse: 19.2992\tvalid_0's l2: 372.461\n",
      "[200]\tvalid_0's rmse: 7.07692\tvalid_0's l2: 50.0828\n",
      "[300]\tvalid_0's rmse: 2.6164\tvalid_0's l2: 6.84552\n",
      "[400]\tvalid_0's rmse: 1.0322\tvalid_0's l2: 1.06544\n",
      "[500]\tvalid_0's rmse: 0.550312\tvalid_0's l2: 0.302843\n",
      "[600]\tvalid_0's rmse: 0.450014\tvalid_0's l2: 0.202512\n",
      "[700]\tvalid_0's rmse: 0.430455\tvalid_0's l2: 0.185291\n",
      "[800]\tvalid_0's rmse: 0.424705\tvalid_0's l2: 0.180374\n",
      "[900]\tvalid_0's rmse: 0.422969\tvalid_0's l2: 0.178903\n",
      "[1000]\tvalid_0's rmse: 0.420132\tvalid_0's l2: 0.176511\n",
      "[1100]\tvalid_0's rmse: 0.418966\tvalid_0's l2: 0.175532\n",
      "[1200]\tvalid_0's rmse: 0.418696\tvalid_0's l2: 0.175307\n",
      "[1300]\tvalid_0's rmse: 0.418351\tvalid_0's l2: 0.175017\n",
      "[1400]\tvalid_0's rmse: 0.416018\tvalid_0's l2: 0.173071\n",
      "[1500]\tvalid_0's rmse: 0.413556\tvalid_0's l2: 0.171029\n",
      "[1600]\tvalid_0's rmse: 0.412169\tvalid_0's l2: 0.169883\n",
      "[1700]\tvalid_0's rmse: 0.411319\tvalid_0's l2: 0.169184\n",
      "[1800]\tvalid_0's rmse: 0.410999\tvalid_0's l2: 0.168921\n",
      "[1900]\tvalid_0's rmse: 0.411342\tvalid_0's l2: 0.169202\n",
      "Early stopping, best iteration is:\n",
      "[1803]\tvalid_0's rmse: 0.410922\tvalid_0's l2: 0.168857\n",
      "Training until validation scores don't improve for 100 rounds\n",
      "[100]\tvalid_0's rmse: 19.2848\tvalid_0's l2: 371.904\n",
      "[200]\tvalid_0's rmse: 7.07303\tvalid_0's l2: 50.0277\n",
      "[300]\tvalid_0's rmse: 2.62044\tvalid_0's l2: 6.86672\n",
      "[400]\tvalid_0's rmse: 1.04181\tvalid_0's l2: 1.08538\n",
      "[500]\tvalid_0's rmse: 0.554951\tvalid_0's l2: 0.307971\n",
      "[600]\tvalid_0's rmse: 0.45115\tvalid_0's l2: 0.203537\n",
      "[700]\tvalid_0's rmse: 0.429651\tvalid_0's l2: 0.1846\n",
      "[800]\tvalid_0's rmse: 0.423276\tvalid_0's l2: 0.179162\n",
      "[900]\tvalid_0's rmse: 0.420497\tvalid_0's l2: 0.176818\n",
      "[1000]\tvalid_0's rmse: 0.419333\tvalid_0's l2: 0.17584\n",
      "[1100]\tvalid_0's rmse: 0.41842\tvalid_0's l2: 0.175075\n",
      "[1200]\tvalid_0's rmse: 0.417867\tvalid_0's l2: 0.174613\n",
      "[1300]\tvalid_0's rmse: 0.417774\tvalid_0's l2: 0.174535\n",
      "[1400]\tvalid_0's rmse: 0.417727\tvalid_0's l2: 0.174495\n",
      "[1500]\tvalid_0's rmse: 0.417622\tvalid_0's l2: 0.174408\n",
      "Early stopping, best iteration is:\n",
      "[1444]\tvalid_0's rmse: 0.417548\tvalid_0's l2: 0.174346\n",
      "Training until validation scores don't improve for 100 rounds\n",
      "[100]\tvalid_0's rmse: 19.5666\tvalid_0's l2: 382.852\n",
      "[200]\tvalid_0's rmse: 7.35498\tvalid_0's l2: 54.0957\n",
      "[300]\tvalid_0's rmse: 3.04403\tvalid_0's l2: 9.26614\n",
      "[400]\tvalid_0's rmse: 1.72025\tvalid_0's l2: 2.95925\n",
      "[500]\tvalid_0's rmse: 1.40953\tvalid_0's l2: 1.98679\n",
      "[600]\tvalid_0's rmse: 1.32826\tvalid_0's l2: 1.76426\n",
      "[700]\tvalid_0's rmse: 1.29245\tvalid_0's l2: 1.67043\n",
      "[800]\tvalid_0's rmse: 1.2819\tvalid_0's l2: 1.64326\n",
      "[900]\tvalid_0's rmse: 1.26837\tvalid_0's l2: 1.60875\n",
      "[1000]\tvalid_0's rmse: 1.25813\tvalid_0's l2: 1.58289\n",
      "[1100]\tvalid_0's rmse: 1.25194\tvalid_0's l2: 1.56735\n",
      "[1200]\tvalid_0's rmse: 1.24643\tvalid_0's l2: 1.55358\n",
      "[1300]\tvalid_0's rmse: 1.24168\tvalid_0's l2: 1.54177\n",
      "[1400]\tvalid_0's rmse: 1.23714\tvalid_0's l2: 1.53051\n",
      "[1500]\tvalid_0's rmse: 1.2327\tvalid_0's l2: 1.51956\n",
      "[1600]\tvalid_0's rmse: 1.22865\tvalid_0's l2: 1.50958\n",
      "[1700]\tvalid_0's rmse: 1.22476\tvalid_0's l2: 1.50003\n",
      "[1800]\tvalid_0's rmse: 1.22051\tvalid_0's l2: 1.48964\n",
      "[1900]\tvalid_0's rmse: 1.21685\tvalid_0's l2: 1.48073\n",
      "[2000]\tvalid_0's rmse: 1.21277\tvalid_0's l2: 1.47081\n",
      "[2100]\tvalid_0's rmse: 1.20809\tvalid_0's l2: 1.45947\n",
      "[2200]\tvalid_0's rmse: 1.20416\tvalid_0's l2: 1.45001\n",
      "[2300]\tvalid_0's rmse: 1.20013\tvalid_0's l2: 1.4403\n",
      "[2400]\tvalid_0's rmse: 1.19637\tvalid_0's l2: 1.4313\n",
      "[2500]\tvalid_0's rmse: 1.19365\tvalid_0's l2: 1.4248\n",
      "[2600]\tvalid_0's rmse: 1.18951\tvalid_0's l2: 1.41493\n",
      "[2700]\tvalid_0's rmse: 1.18143\tvalid_0's l2: 1.39579\n",
      "[2800]\tvalid_0's rmse: 1.17947\tvalid_0's l2: 1.39114\n",
      "[2900]\tvalid_0's rmse: 1.17712\tvalid_0's l2: 1.38561\n",
      "[3000]\tvalid_0's rmse: 1.17479\tvalid_0's l2: 1.38012\n",
      "[3100]\tvalid_0's rmse: 1.17244\tvalid_0's l2: 1.37462\n",
      "[3200]\tvalid_0's rmse: 1.17122\tvalid_0's l2: 1.37175\n",
      "[3300]\tvalid_0's rmse: 1.16975\tvalid_0's l2: 1.36831\n",
      "[3400]\tvalid_0's rmse: 1.16824\tvalid_0's l2: 1.36478\n",
      "[3500]\tvalid_0's rmse: 1.16678\tvalid_0's l2: 1.36137\n",
      "[3600]\tvalid_0's rmse: 1.16537\tvalid_0's l2: 1.35808\n",
      "[3700]\tvalid_0's rmse: 1.16394\tvalid_0's l2: 1.35476\n",
      "[3800]\tvalid_0's rmse: 1.16263\tvalid_0's l2: 1.3517\n",
      "[3900]\tvalid_0's rmse: 1.16121\tvalid_0's l2: 1.34842\n",
      "[4000]\tvalid_0's rmse: 1.15963\tvalid_0's l2: 1.34474\n",
      "[4100]\tvalid_0's rmse: 1.15689\tvalid_0's l2: 1.33839\n",
      "[4200]\tvalid_0's rmse: 1.1549\tvalid_0's l2: 1.3338\n",
      "[4300]\tvalid_0's rmse: 1.15276\tvalid_0's l2: 1.32887\n",
      "[4400]\tvalid_0's rmse: 1.15028\tvalid_0's l2: 1.32315\n",
      "[4500]\tvalid_0's rmse: 1.14803\tvalid_0's l2: 1.31798\n",
      "[4600]\tvalid_0's rmse: 1.14522\tvalid_0's l2: 1.31153\n"
     ]
    },
    {
     "name": "stdout",
     "output_type": "stream",
     "text": [
      "[4700]\tvalid_0's rmse: 1.13971\tvalid_0's l2: 1.29893\n",
      "[4800]\tvalid_0's rmse: 1.1348\tvalid_0's l2: 1.28777\n",
      "[4900]\tvalid_0's rmse: 1.13158\tvalid_0's l2: 1.28048\n",
      "[5000]\tvalid_0's rmse: 1.12947\tvalid_0's l2: 1.27569\n",
      "[5100]\tvalid_0's rmse: 1.12563\tvalid_0's l2: 1.26705\n",
      "[5200]\tvalid_0's rmse: 1.11974\tvalid_0's l2: 1.25382\n",
      "[5300]\tvalid_0's rmse: 1.11876\tvalid_0's l2: 1.25163\n",
      "[5400]\tvalid_0's rmse: 1.11591\tvalid_0's l2: 1.24526\n",
      "[5500]\tvalid_0's rmse: 1.11707\tvalid_0's l2: 1.24783\n",
      "Early stopping, best iteration is:\n",
      "[5460]\tvalid_0's rmse: 1.11438\tvalid_0's l2: 1.24184\n",
      "Training until validation scores don't improve for 100 rounds\n",
      "[100]\tvalid_0's rmse: 19.3996\tvalid_0's l2: 376.344\n",
      "[200]\tvalid_0's rmse: 7.20141\tvalid_0's l2: 51.8603\n",
      "[300]\tvalid_0's rmse: 2.80696\tvalid_0's l2: 7.879\n",
      "[400]\tvalid_0's rmse: 1.35064\tvalid_0's l2: 1.82424\n",
      "[500]\tvalid_0's rmse: 0.969111\tvalid_0's l2: 0.939177\n",
      "[600]\tvalid_0's rmse: 0.874473\tvalid_0's l2: 0.764703\n",
      "[700]\tvalid_0's rmse: 0.846242\tvalid_0's l2: 0.716125\n",
      "[800]\tvalid_0's rmse: 0.832329\tvalid_0's l2: 0.692772\n",
      "[900]\tvalid_0's rmse: 0.796471\tvalid_0's l2: 0.634367\n",
      "[1000]\tvalid_0's rmse: 0.784234\tvalid_0's l2: 0.615024\n",
      "[1100]\tvalid_0's rmse: 0.779006\tvalid_0's l2: 0.606851\n",
      "[1200]\tvalid_0's rmse: 0.772927\tvalid_0's l2: 0.597417\n",
      "[1300]\tvalid_0's rmse: 0.766255\tvalid_0's l2: 0.587146\n",
      "[1400]\tvalid_0's rmse: 0.756622\tvalid_0's l2: 0.572476\n",
      "[1500]\tvalid_0's rmse: 0.747797\tvalid_0's l2: 0.5592\n",
      "[1600]\tvalid_0's rmse: 0.739397\tvalid_0's l2: 0.546707\n",
      "[1700]\tvalid_0's rmse: 0.730143\tvalid_0's l2: 0.533109\n",
      "[1800]\tvalid_0's rmse: 0.72074\tvalid_0's l2: 0.519466\n",
      "[1900]\tvalid_0's rmse: 0.709784\tvalid_0's l2: 0.503794\n",
      "[2000]\tvalid_0's rmse: 0.700625\tvalid_0's l2: 0.490875\n",
      "[2100]\tvalid_0's rmse: 0.693442\tvalid_0's l2: 0.480862\n",
      "[2200]\tvalid_0's rmse: 0.687319\tvalid_0's l2: 0.472408\n",
      "[2300]\tvalid_0's rmse: 0.682432\tvalid_0's l2: 0.465713\n",
      "[2400]\tvalid_0's rmse: 0.679047\tvalid_0's l2: 0.461105\n",
      "[2500]\tvalid_0's rmse: 0.675837\tvalid_0's l2: 0.456756\n",
      "[2600]\tvalid_0's rmse: 0.674198\tvalid_0's l2: 0.454543\n",
      "[2700]\tvalid_0's rmse: 0.671381\tvalid_0's l2: 0.450753\n",
      "[2800]\tvalid_0's rmse: 0.668802\tvalid_0's l2: 0.447295\n",
      "[2900]\tvalid_0's rmse: 0.666766\tvalid_0's l2: 0.444577\n",
      "[3000]\tvalid_0's rmse: 0.664489\tvalid_0's l2: 0.441546\n",
      "[3100]\tvalid_0's rmse: 0.662129\tvalid_0's l2: 0.438415\n",
      "[3200]\tvalid_0's rmse: 0.660233\tvalid_0's l2: 0.435908\n",
      "[3300]\tvalid_0's rmse: 0.657518\tvalid_0's l2: 0.43233\n",
      "[3400]\tvalid_0's rmse: 0.655884\tvalid_0's l2: 0.430184\n",
      "[3500]\tvalid_0's rmse: 0.654106\tvalid_0's l2: 0.427855\n",
      "[3600]\tvalid_0's rmse: 0.652658\tvalid_0's l2: 0.425962\n",
      "[3700]\tvalid_0's rmse: 0.651938\tvalid_0's l2: 0.425023\n",
      "[3800]\tvalid_0's rmse: 0.650513\tvalid_0's l2: 0.423167\n",
      "[3900]\tvalid_0's rmse: 0.649099\tvalid_0's l2: 0.421329\n",
      "[4000]\tvalid_0's rmse: 0.648053\tvalid_0's l2: 0.419973\n",
      "[4100]\tvalid_0's rmse: 0.647105\tvalid_0's l2: 0.418745\n",
      "[4200]\tvalid_0's rmse: 0.646227\tvalid_0's l2: 0.41761\n",
      "[4300]\tvalid_0's rmse: 0.645386\tvalid_0's l2: 0.416523\n",
      "[4400]\tvalid_0's rmse: 0.643866\tvalid_0's l2: 0.414564\n",
      "[4500]\tvalid_0's rmse: 0.643185\tvalid_0's l2: 0.413687\n",
      "[4600]\tvalid_0's rmse: 0.64267\tvalid_0's l2: 0.413025\n",
      "[4700]\tvalid_0's rmse: 0.642158\tvalid_0's l2: 0.412366\n",
      "[4800]\tvalid_0's rmse: 0.641552\tvalid_0's l2: 0.411589\n",
      "[4900]\tvalid_0's rmse: 0.641196\tvalid_0's l2: 0.411133\n",
      "[5000]\tvalid_0's rmse: 0.63996\tvalid_0's l2: 0.409548\n",
      "[5100]\tvalid_0's rmse: 0.638579\tvalid_0's l2: 0.407783\n",
      "[5200]\tvalid_0's rmse: 0.642243\tvalid_0's l2: 0.412477\n",
      "Early stopping, best iteration is:\n",
      "[5171]\tvalid_0's rmse: 0.637997\tvalid_0's l2: 0.40704\n"
     ]
    }
   ],
   "source": [
    "from sklearn.model_selection import train_test_split\n",
    "from lightgbm import LGBMRegressor\n",
    "from sklearn.model_selection import StratifiedKFold\n",
    "\n",
    "n_splits = 10\n",
    "sfk = StratifiedKFold(n_splits = n_splits)\n",
    "\n",
    "y_pred = np.zeros(len(test_data))\n",
    "X=train_data\n",
    "y=train_label\n",
    "\n",
    "skfold = StratifiedKFold(n_splits=n_splits, shuffle=True, random_state=10)\n",
    "folds=[]\n",
    "for train_idx, valid_idx in skfold.split(X, y):\n",
    "    folds.append((train_idx, valid_idx))\n",
    "             \n",
    "    X_train = X.iloc[train_idx, :]\n",
    "    y_train = y[train_idx]\n",
    "\n",
    "    X_val = X.iloc[valid_idx, :]\n",
    "    y_val = y[valid_idx]\n",
    "\n",
    "    lgbm = LGBMRegressor(n_estimators = 7000, objective = 'mse', learning_rate= 0.01, num_leaves=31)\n",
    "    lgbm.fit(X_train, y_train, eval_set=[(X_val, y_val)], eval_metric= 'rmse', early_stopping_rounds=100,verbose = 100)\n",
    "    y_pred += lgbm.predict(test_data) / n_splits"
   ]
  },
  {
   "cell_type": "code",
   "execution_count": 83,
   "metadata": {},
   "outputs": [
    {
     "data": {
      "text/plain": [
       "array([279.66883817, 607.99635153, 253.39550842, ..., 877.02578878,\n",
       "        19.16147287,   8.46677756])"
      ]
     },
     "execution_count": 83,
     "metadata": {},
     "output_type": "execute_result"
    }
   ],
   "source": [
    "y_pred"
   ]
  },
  {
   "cell_type": "markdown",
   "metadata": {},
   "source": [
    "### 후 처리"
   ]
  },
  {
   "cell_type": "markdown",
   "metadata": {},
   "source": [
    " hold_d(전체 보유기간) - hist_d(2020.12.31까지의 보유기간) 은 146일 이내입니다.\n",
    " \n",
    " 따라서 예측값인 hold_d는 hist_d+146을 넘지 않도록 해야 합니다.\n",
    " \n",
    " 또한 hist_d가 hold_d보다 작을 수는 없습니다.\n",
    "\n",
    " 따라서 hold_d의 상한선과 하한선을 지정하는 방법으로 후처리를 진행하였습니다."
   ]
  },
  {
   "cell_type": "code",
   "execution_count": 84,
   "metadata": {},
   "outputs": [
    {
     "name": "stderr",
     "output_type": "stream",
     "text": [
      "<ipython-input-84-a969872bcb4c>:6: SettingWithCopyWarning: \n",
      "A value is trying to be set on a copy of a slice from a DataFrame.\n",
      "Try using .loc[row_indexer,col_indexer] = value instead\n",
      "\n",
      "See the caveats in the documentation: https://pandas.pydata.org/pandas-docs/stable/user_guide/indexing.html#returning-a-view-versus-a-copy\n",
      "  df[\"upper\"]=mins\n",
      "<ipython-input-84-a969872bcb4c>:8: SettingWithCopyWarning: \n",
      "A value is trying to be set on a copy of a slice from a DataFrame.\n",
      "Try using .loc[row_indexer,col_indexer] = value instead\n",
      "\n",
      "See the caveats in the documentation: https://pandas.pydata.org/pandas-docs/stable/user_guide/indexing.html#returning-a-view-versus-a-copy\n",
      "  df[\"ans\"]=maxs\n"
     ]
    },
    {
     "data": {
      "text/plain": [
       "count    70596.000000\n",
       "mean       172.292821\n",
       "std        203.574614\n",
       "min          2.000000\n",
       "25%         25.000000\n",
       "50%        102.000000\n",
       "75%        240.000000\n",
       "max       1227.000000\n",
       "Name: hold_d, dtype: float64"
      ]
     },
     "execution_count": 84,
     "metadata": {},
     "output_type": "execute_result"
    }
   ],
   "source": [
    "test=pd.read_csv('stk_hld_test.csv') \n",
    "test[\"hold_d\"] = np.round(y_pred)\n",
    "test[\"hist_new\"]=test[\"hist_d\"]+146\n",
    "df=test[['hist_new','hold_d','hist_d']]\n",
    "mins=test[['hist_new','hold_d']].min(axis=1)  ## 상한선 지정\n",
    "df[\"upper\"]=mins\n",
    "maxs=df[['hist_d','upper']].max(axis=1)    ## 하한선 지정\n",
    "df[\"ans\"]=maxs\n",
    "\n",
    "\n",
    "sample[\"hold_d\"]=maxs\n",
    "sample['hold_d'].describe()"
   ]
  },
  {
   "cell_type": "markdown",
   "metadata": {},
   "source": [
    "### 최종 결과물을 제출합니다."
   ]
  },
  {
   "cell_type": "code",
   "execution_count": 85,
   "metadata": {},
   "outputs": [],
   "source": [
    "sample.to_csv(\"my2.csv\", index = False)"
   ]
  },
  {
   "cell_type": "code",
   "execution_count": null,
   "metadata": {},
   "outputs": [],
   "source": []
  }
 ],
 "metadata": {
  "kernelspec": {
   "display_name": "Python 3",
   "language": "python",
   "name": "python3"
  },
  "language_info": {
   "codemirror_mode": {
    "name": "ipython",
    "version": 3
   },
   "file_extension": ".py",
   "mimetype": "text/x-python",
   "name": "python",
   "nbconvert_exporter": "python",
   "pygments_lexer": "ipython3",
   "version": "3.8.3"
  }
 },
 "nbformat": 4,
 "nbformat_minor": 4
}
